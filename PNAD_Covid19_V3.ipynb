{
  "nbformat": 4,
  "nbformat_minor": 0,
  "metadata": {
    "colab": {
      "provenance": [],
      "collapsed_sections": [
        "jsXoFA3UPF3i"
      ],
      "include_colab_link": true
    },
    "kernelspec": {
      "name": "python3",
      "display_name": "Python 3"
    },
    "language_info": {
      "name": "python"
    }
  },
  "cells": [
    {
      "cell_type": "markdown",
      "metadata": {
        "id": "view-in-github",
        "colab_type": "text"
      },
      "source": [
        "<a href=\"https://colab.research.google.com/github/fegastal/PosTech-DataAnalytics_TechChallenge_3/blob/main/PNAD_Covid19_V3.ipynb\" target=\"_parent\"><img src=\"https://colab.research.google.com/assets/colab-badge.svg\" alt=\"Open In Colab\"/></a>"
      ]
    },
    {
      "cell_type": "code",
      "execution_count": 1,
      "metadata": {
        "id": "FSRssUPDM-32",
        "colab": {
          "base_uri": "https://localhost:8080/"
        },
        "outputId": "6259f722-dcc2-431c-896f-fa1828c417bd"
      },
      "outputs": [
        {
          "output_type": "stream",
          "name": "stdout",
          "text": [
            "Requirement already satisfied: pyspark in /usr/local/lib/python3.10/dist-packages (3.5.0)\n",
            "Requirement already satisfied: py4j==0.10.9.7 in /usr/local/lib/python3.10/dist-packages (from pyspark) (0.10.9.7)\n"
          ]
        }
      ],
      "source": [
        "!pip install pyspark"
      ]
    },
    {
      "cell_type": "code",
      "source": [
        "!pip install pandas\n",
        "!pip install numpy\n",
        "!pip install matplotlib\n",
        "!pip install seaborn\n",
        "!pip install basedosdados"
      ],
      "metadata": {
        "id": "s-_8IsTFMovv",
        "colab": {
          "base_uri": "https://localhost:8080/"
        },
        "outputId": "ad296441-01d9-423a-8ea5-b34a81a472c3"
      },
      "execution_count": 2,
      "outputs": [
        {
          "output_type": "stream",
          "name": "stdout",
          "text": [
            "Requirement already satisfied: pandas in /usr/local/lib/python3.10/dist-packages (1.5.3)\n",
            "Requirement already satisfied: python-dateutil>=2.8.1 in /usr/local/lib/python3.10/dist-packages (from pandas) (2.8.2)\n",
            "Requirement already satisfied: pytz>=2020.1 in /usr/local/lib/python3.10/dist-packages (from pandas) (2023.3.post1)\n",
            "Requirement already satisfied: numpy>=1.21.0 in /usr/local/lib/python3.10/dist-packages (from pandas) (1.23.5)\n",
            "Requirement already satisfied: six>=1.5 in /usr/local/lib/python3.10/dist-packages (from python-dateutil>=2.8.1->pandas) (1.16.0)\n",
            "Requirement already satisfied: numpy in /usr/local/lib/python3.10/dist-packages (1.23.5)\n",
            "Requirement already satisfied: matplotlib in /usr/local/lib/python3.10/dist-packages (3.7.1)\n",
            "Requirement already satisfied: contourpy>=1.0.1 in /usr/local/lib/python3.10/dist-packages (from matplotlib) (1.1.1)\n",
            "Requirement already satisfied: cycler>=0.10 in /usr/local/lib/python3.10/dist-packages (from matplotlib) (0.12.1)\n",
            "Requirement already satisfied: fonttools>=4.22.0 in /usr/local/lib/python3.10/dist-packages (from matplotlib) (4.43.1)\n",
            "Requirement already satisfied: kiwisolver>=1.0.1 in /usr/local/lib/python3.10/dist-packages (from matplotlib) (1.4.5)\n",
            "Requirement already satisfied: numpy>=1.20 in /usr/local/lib/python3.10/dist-packages (from matplotlib) (1.23.5)\n",
            "Requirement already satisfied: packaging>=20.0 in /usr/local/lib/python3.10/dist-packages (from matplotlib) (23.2)\n",
            "Requirement already satisfied: pillow>=6.2.0 in /usr/local/lib/python3.10/dist-packages (from matplotlib) (9.4.0)\n",
            "Requirement already satisfied: pyparsing>=2.3.1 in /usr/local/lib/python3.10/dist-packages (from matplotlib) (3.1.1)\n",
            "Requirement already satisfied: python-dateutil>=2.7 in /usr/local/lib/python3.10/dist-packages (from matplotlib) (2.8.2)\n",
            "Requirement already satisfied: six>=1.5 in /usr/local/lib/python3.10/dist-packages (from python-dateutil>=2.7->matplotlib) (1.16.0)\n",
            "Requirement already satisfied: seaborn in /usr/local/lib/python3.10/dist-packages (0.12.2)\n",
            "Requirement already satisfied: numpy!=1.24.0,>=1.17 in /usr/local/lib/python3.10/dist-packages (from seaborn) (1.23.5)\n",
            "Requirement already satisfied: pandas>=0.25 in /usr/local/lib/python3.10/dist-packages (from seaborn) (1.5.3)\n",
            "Requirement already satisfied: matplotlib!=3.6.1,>=3.1 in /usr/local/lib/python3.10/dist-packages (from seaborn) (3.7.1)\n",
            "Requirement already satisfied: contourpy>=1.0.1 in /usr/local/lib/python3.10/dist-packages (from matplotlib!=3.6.1,>=3.1->seaborn) (1.1.1)\n",
            "Requirement already satisfied: cycler>=0.10 in /usr/local/lib/python3.10/dist-packages (from matplotlib!=3.6.1,>=3.1->seaborn) (0.12.1)\n",
            "Requirement already satisfied: fonttools>=4.22.0 in /usr/local/lib/python3.10/dist-packages (from matplotlib!=3.6.1,>=3.1->seaborn) (4.43.1)\n",
            "Requirement already satisfied: kiwisolver>=1.0.1 in /usr/local/lib/python3.10/dist-packages (from matplotlib!=3.6.1,>=3.1->seaborn) (1.4.5)\n",
            "Requirement already satisfied: packaging>=20.0 in /usr/local/lib/python3.10/dist-packages (from matplotlib!=3.6.1,>=3.1->seaborn) (23.2)\n",
            "Requirement already satisfied: pillow>=6.2.0 in /usr/local/lib/python3.10/dist-packages (from matplotlib!=3.6.1,>=3.1->seaborn) (9.4.0)\n",
            "Requirement already satisfied: pyparsing>=2.3.1 in /usr/local/lib/python3.10/dist-packages (from matplotlib!=3.6.1,>=3.1->seaborn) (3.1.1)\n",
            "Requirement already satisfied: python-dateutil>=2.7 in /usr/local/lib/python3.10/dist-packages (from matplotlib!=3.6.1,>=3.1->seaborn) (2.8.2)\n",
            "Requirement already satisfied: pytz>=2020.1 in /usr/local/lib/python3.10/dist-packages (from pandas>=0.25->seaborn) (2023.3.post1)\n",
            "Requirement already satisfied: six>=1.5 in /usr/local/lib/python3.10/dist-packages (from python-dateutil>=2.7->matplotlib!=3.6.1,>=3.1->seaborn) (1.16.0)\n",
            "Requirement already satisfied: basedosdados in /usr/local/lib/python3.10/dist-packages (1.6.11)\n",
            "Requirement already satisfied: Jinja2==3.0.3 in /usr/local/lib/python3.10/dist-packages (from basedosdados) (3.0.3)\n",
            "Requirement already satisfied: ckanapi==4.6 in /usr/local/lib/python3.10/dist-packages (from basedosdados) (4.6)\n",
            "Requirement already satisfied: click==8.0.3 in /usr/local/lib/python3.10/dist-packages (from basedosdados) (8.0.3)\n",
            "Requirement already satisfied: google-cloud-bigquery==2.30.1 in /usr/local/lib/python3.10/dist-packages (from basedosdados) (2.30.1)\n",
            "Requirement already satisfied: google-cloud-bigquery-storage==1.1.0 in /usr/local/lib/python3.10/dist-packages (from basedosdados) (1.1.0)\n",
            "Requirement already satisfied: google-cloud-storage==1.42.3 in /usr/local/lib/python3.10/dist-packages (from basedosdados) (1.42.3)\n",
            "Requirement already satisfied: importlib-metadata<5.0.0,>=4.11.3 in /usr/local/lib/python3.10/dist-packages (from basedosdados) (4.13.0)\n",
            "Requirement already satisfied: loguru<0.7.0,>=0.6.0 in /usr/local/lib/python3.10/dist-packages (from basedosdados) (0.6.0)\n",
            "Requirement already satisfied: pandas<2.0.0,>=1.3.5 in /usr/local/lib/python3.10/dist-packages (from basedosdados) (1.5.3)\n",
            "Requirement already satisfied: pandas-gbq<0.18.0,>=0.17.4 in /usr/local/lib/python3.10/dist-packages (from basedosdados) (0.17.9)\n",
            "Requirement already satisfied: pandavro<2.0.0,>=1.6.0 in /usr/local/lib/python3.10/dist-packages (from basedosdados) (1.7.2)\n",
            "Requirement already satisfied: pyaml==20.4.0 in /usr/local/lib/python3.10/dist-packages (from basedosdados) (20.4.0)\n",
            "Requirement already satisfied: pyarrow==6.0.0 in /usr/local/lib/python3.10/dist-packages (from basedosdados) (6.0.0)\n",
            "Requirement already satisfied: ruamel.yaml==0.17.10 in /usr/local/lib/python3.10/dist-packages (from basedosdados) (0.17.10)\n",
            "Requirement already satisfied: shapely<2.0.0,>=1.6.0 in /usr/local/lib/python3.10/dist-packages (from basedosdados) (1.8.5.post1)\n",
            "Requirement already satisfied: toml<0.11.0,>=0.10.2 in /usr/local/lib/python3.10/dist-packages (from basedosdados) (0.10.2)\n",
            "Requirement already satisfied: tomlkit==0.7.0 in /usr/local/lib/python3.10/dist-packages (from basedosdados) (0.7.0)\n",
            "Requirement already satisfied: tqdm==4.50.2 in /usr/local/lib/python3.10/dist-packages (from basedosdados) (4.50.2)\n",
            "Requirement already satisfied: setuptools in /usr/local/lib/python3.10/dist-packages (from ckanapi==4.6->basedosdados) (67.7.2)\n",
            "Requirement already satisfied: docopt in /usr/local/lib/python3.10/dist-packages (from ckanapi==4.6->basedosdados) (0.6.2)\n",
            "Requirement already satisfied: requests in /usr/local/lib/python3.10/dist-packages (from ckanapi==4.6->basedosdados) (2.31.0)\n",
            "Requirement already satisfied: python-slugify>=1.0 in /usr/local/lib/python3.10/dist-packages (from ckanapi==4.6->basedosdados) (8.0.1)\n",
            "Requirement already satisfied: six<2.0,>=1.9 in /usr/local/lib/python3.10/dist-packages (from ckanapi==4.6->basedosdados) (1.16.0)\n",
            "Requirement already satisfied: grpcio<2.0dev,>=1.38.1 in /usr/local/lib/python3.10/dist-packages (from google-cloud-bigquery==2.30.1->basedosdados) (1.59.0)\n",
            "Requirement already satisfied: google-api-core[grpc]<3.0.0dev,>=1.29.0 in /usr/local/lib/python3.10/dist-packages (from google-cloud-bigquery==2.30.1->basedosdados) (1.34.0)\n",
            "Requirement already satisfied: proto-plus>=1.10.0 in /usr/local/lib/python3.10/dist-packages (from google-cloud-bigquery==2.30.1->basedosdados) (1.22.3)\n",
            "Requirement already satisfied: google-cloud-core<3.0.0dev,>=1.4.1 in /usr/local/lib/python3.10/dist-packages (from google-cloud-bigquery==2.30.1->basedosdados) (2.3.3)\n",
            "Requirement already satisfied: google-resumable-media<3.0dev,>=0.6.0 in /usr/local/lib/python3.10/dist-packages (from google-cloud-bigquery==2.30.1->basedosdados) (2.6.0)\n",
            "Requirement already satisfied: packaging>=14.3 in /usr/local/lib/python3.10/dist-packages (from google-cloud-bigquery==2.30.1->basedosdados) (23.2)\n",
            "Requirement already satisfied: protobuf>=3.12.0 in /usr/local/lib/python3.10/dist-packages (from google-cloud-bigquery==2.30.1->basedosdados) (3.20.3)\n",
            "Requirement already satisfied: python-dateutil<3.0dev,>=2.7.2 in /usr/local/lib/python3.10/dist-packages (from google-cloud-bigquery==2.30.1->basedosdados) (2.8.2)\n",
            "Requirement already satisfied: google-auth<3.0dev,>=1.25.0 in /usr/local/lib/python3.10/dist-packages (from google-cloud-storage==1.42.3->basedosdados) (2.17.3)\n",
            "Requirement already satisfied: MarkupSafe>=2.0 in /usr/local/lib/python3.10/dist-packages (from Jinja2==3.0.3->basedosdados) (2.1.3)\n",
            "Requirement already satisfied: PyYAML in /usr/local/lib/python3.10/dist-packages (from pyaml==20.4.0->basedosdados) (6.0.1)\n",
            "Requirement already satisfied: numpy>=1.16.6 in /usr/local/lib/python3.10/dist-packages (from pyarrow==6.0.0->basedosdados) (1.23.5)\n",
            "Requirement already satisfied: zipp>=0.5 in /usr/local/lib/python3.10/dist-packages (from importlib-metadata<5.0.0,>=4.11.3->basedosdados) (3.17.0)\n",
            "Requirement already satisfied: pytz>=2020.1 in /usr/local/lib/python3.10/dist-packages (from pandas<2.0.0,>=1.3.5->basedosdados) (2023.3.post1)\n",
            "Requirement already satisfied: db-dtypes<2.0.0,>=0.3.1 in /usr/local/lib/python3.10/dist-packages (from pandas-gbq<0.18.0,>=0.17.4->basedosdados) (1.1.1)\n",
            "Requirement already satisfied: pydata-google-auth in /usr/local/lib/python3.10/dist-packages (from pandas-gbq<0.18.0,>=0.17.4->basedosdados) (1.8.2)\n",
            "Requirement already satisfied: google-auth-oauthlib>=0.0.1 in /usr/local/lib/python3.10/dist-packages (from pandas-gbq<0.18.0,>=0.17.4->basedosdados) (1.0.0)\n",
            "Requirement already satisfied: fastavro~=1.5.1 in /usr/local/lib/python3.10/dist-packages (from pandavro<2.0.0,>=1.6.0->basedosdados) (1.5.4)\n",
            "Requirement already satisfied: googleapis-common-protos<2.0dev,>=1.56.2 in /usr/local/lib/python3.10/dist-packages (from google-api-core[grpc]<3.0.0dev,>=1.29.0->google-cloud-bigquery==2.30.1->basedosdados) (1.61.0)\n",
            "Requirement already satisfied: grpcio-status<2.0dev,>=1.33.2 in /usr/local/lib/python3.10/dist-packages (from google-api-core[grpc]<3.0.0dev,>=1.29.0->google-cloud-bigquery==2.30.1->basedosdados) (1.48.2)\n",
            "Requirement already satisfied: cachetools<6.0,>=2.0.0 in /usr/local/lib/python3.10/dist-packages (from google-auth<3.0dev,>=1.25.0->google-cloud-storage==1.42.3->basedosdados) (5.3.2)\n",
            "Requirement already satisfied: pyasn1-modules>=0.2.1 in /usr/local/lib/python3.10/dist-packages (from google-auth<3.0dev,>=1.25.0->google-cloud-storage==1.42.3->basedosdados) (0.3.0)\n",
            "Requirement already satisfied: rsa<5,>=3.1.4 in /usr/local/lib/python3.10/dist-packages (from google-auth<3.0dev,>=1.25.0->google-cloud-storage==1.42.3->basedosdados) (4.9)\n",
            "Requirement already satisfied: requests-oauthlib>=0.7.0 in /usr/local/lib/python3.10/dist-packages (from google-auth-oauthlib>=0.0.1->pandas-gbq<0.18.0,>=0.17.4->basedosdados) (1.3.1)\n",
            "Requirement already satisfied: google-crc32c<2.0dev,>=1.0 in /usr/local/lib/python3.10/dist-packages (from google-resumable-media<3.0dev,>=0.6.0->google-cloud-bigquery==2.30.1->basedosdados) (1.5.0)\n",
            "Requirement already satisfied: text-unidecode>=1.3 in /usr/local/lib/python3.10/dist-packages (from python-slugify>=1.0->ckanapi==4.6->basedosdados) (1.3)\n",
            "Requirement already satisfied: charset-normalizer<4,>=2 in /usr/local/lib/python3.10/dist-packages (from requests->ckanapi==4.6->basedosdados) (3.3.1)\n",
            "Requirement already satisfied: idna<4,>=2.5 in /usr/local/lib/python3.10/dist-packages (from requests->ckanapi==4.6->basedosdados) (3.4)\n",
            "Requirement already satisfied: urllib3<3,>=1.21.1 in /usr/local/lib/python3.10/dist-packages (from requests->ckanapi==4.6->basedosdados) (2.0.7)\n",
            "Requirement already satisfied: certifi>=2017.4.17 in /usr/local/lib/python3.10/dist-packages (from requests->ckanapi==4.6->basedosdados) (2023.7.22)\n",
            "Requirement already satisfied: pyasn1<0.6.0,>=0.4.6 in /usr/local/lib/python3.10/dist-packages (from pyasn1-modules>=0.2.1->google-auth<3.0dev,>=1.25.0->google-cloud-storage==1.42.3->basedosdados) (0.5.0)\n",
            "Requirement already satisfied: oauthlib>=3.0.0 in /usr/local/lib/python3.10/dist-packages (from requests-oauthlib>=0.7.0->google-auth-oauthlib>=0.0.1->pandas-gbq<0.18.0,>=0.17.4->basedosdados) (3.2.2)\n"
          ]
        }
      ]
    },
    {
      "cell_type": "code",
      "source": [
        "import pandas as pd\n",
        "import basedosdados as bd ## database management system for Bra# zilian public data\n",
        "import numpy as np\n",
        "import seaborn as sns\n",
        "import os\n",
        "from matplotlib import pyplot\n",
        "from pyspark.sql import SparkSession\n",
        "from pyspark.sql import functions as F\n",
        "from pyspark.sql.types import StructType, StructField, IntegerType, FloatType, StringType\n",
        "from pyspark.sql.functions import col, expr, concat, when, udf\n",
        "\n",
        "spark = SparkSession.builder.appName(\"PNAD_Covic19\").getOrCreate()\n",
        "spark"
      ],
      "metadata": {
        "colab": {
          "base_uri": "https://localhost:8080/",
          "height": 219
        },
        "id": "p29aIjVbNSqn",
        "outputId": "8564aa77-c35d-42ff-ea69-0ff1fc2da7ad"
      },
      "execution_count": 3,
      "outputs": [
        {
          "output_type": "execute_result",
          "data": {
            "text/plain": [
              "<pyspark.sql.session.SparkSession at 0x7c7665662890>"
            ],
            "text/html": [
              "\n",
              "            <div>\n",
              "                <p><b>SparkSession - in-memory</b></p>\n",
              "                \n",
              "        <div>\n",
              "            <p><b>SparkContext</b></p>\n",
              "\n",
              "            <p><a href=\"http://b11911835769:4040\">Spark UI</a></p>\n",
              "\n",
              "            <dl>\n",
              "              <dt>Version</dt>\n",
              "                <dd><code>v3.5.0</code></dd>\n",
              "              <dt>Master</dt>\n",
              "                <dd><code>local[*]</code></dd>\n",
              "              <dt>AppName</dt>\n",
              "                <dd><code>PNAD_Covic19</code></dd>\n",
              "            </dl>\n",
              "        </div>\n",
              "        \n",
              "            </div>\n",
              "        "
            ]
          },
          "metadata": {},
          "execution_count": 3
        }
      ]
    },
    {
      "cell_type": "code",
      "source": [
        "# dict_basedosdados = bd.read_table(dataset_id='br_ibge_pnad_covid',\n",
        "# table_id='dicionario',\n",
        "# billing_project_id=\"basedosdados-1\")"
      ],
      "metadata": {
        "id": "i4Qd3i39ON6r"
      },
      "execution_count": 4,
      "outputs": []
    },
    {
      "cell_type": "code",
      "source": [
        "# base_df = bd.read_table(dataset_id='br_ibge_pnad_covid',\n",
        "#   table_id='microdados',\n",
        "#   billing_project_id=\"basedosdados-1\") \\\n",
        "#           .fillna(0)"
      ],
      "metadata": {
        "id": "1VlqpvpBHXq5"
      },
      "execution_count": 5,
      "outputs": []
    },
    {
      "cell_type": "code",
      "source": [
        "# base_df_sql = bd.read_sql(query=\"SELECT  * \\\n",
        "#                                   FROM `basedosdados.br_ibge_pnad_covid.microdados` cov_md \\\n",
        "#                                   WHERE cov_md.mes in (9,10,11)\") \\\n",
        "#                                 .fillna(0)\n"
      ],
      "metadata": {
        "id": "ZRp_3BHzTcEZ"
      },
      "execution_count": 6,
      "outputs": []
    },
    {
      "cell_type": "code",
      "source": [
        "# base_df_sql"
      ],
      "metadata": {
        "id": "6tG20cdqS-kB"
      },
      "execution_count": 7,
      "outputs": []
    },
    {
      "cell_type": "code",
      "source": [
        "# Set display options to show all columns and rows\n",
        "pd.set_option('display.max_columns', None)\n",
        "pd.set_option('display.max_rows', 30)"
      ],
      "metadata": {
        "id": "LvD6iBPw2wV9"
      },
      "execution_count": 8,
      "outputs": []
    },
    {
      "cell_type": "code",
      "source": [
        "# covid_df = spark.createDataFrame(data = base_df_sql)"
      ],
      "metadata": {
        "id": "jKCmpMsVg-uI"
      },
      "execution_count": 9,
      "outputs": []
    },
    {
      "cell_type": "code",
      "source": [
        "from google.colab import drive\n",
        "drive.mount('/content/gdrive')"
      ],
      "metadata": {
        "id": "Akopaw03G239",
        "colab": {
          "base_uri": "https://localhost:8080/"
        },
        "outputId": "5f037136-02a0-4b82-bcf0-3a2cfef9ea7f"
      },
      "execution_count": 10,
      "outputs": [
        {
          "output_type": "stream",
          "name": "stdout",
          "text": [
            "Drive already mounted at /content/gdrive; to attempt to forcibly remount, call drive.mount(\"/content/gdrive\", force_remount=True).\n"
          ]
        }
      ]
    },
    {
      "cell_type": "code",
      "source": [
        "csv_path = '/content/gdrive/MyDrive/Colab Notebooks/Consolidado_Knime_PNAD_COVID.csv'"
      ],
      "metadata": {
        "id": "yOIlYCGIbcMx"
      },
      "execution_count": 11,
      "outputs": []
    },
    {
      "cell_type": "code",
      "source": [
        "df = spark.read.csv(csv_path, inferSchema = True,header=True)"
      ],
      "metadata": {
        "id": "6TA7Q3YWDLiZ"
      },
      "execution_count": 12,
      "outputs": []
    },
    {
      "cell_type": "code",
      "source": [
        "type(df)"
      ],
      "metadata": {
        "id": "P6AADuu7LU1F",
        "colab": {
          "base_uri": "https://localhost:8080/"
        },
        "outputId": "bf474331-070d-4dfb-864d-3dfc43183c0f"
      },
      "execution_count": 17,
      "outputs": [
        {
          "output_type": "execute_result",
          "data": {
            "text/plain": [
              "pyspark.sql.dataframe.DataFrame"
            ]
          },
          "metadata": {},
          "execution_count": 17
        }
      ]
    },
    {
      "cell_type": "markdown",
      "source": [
        "Selecting specific columns from data dictionary"
      ],
      "metadata": {
        "id": "Fq8qJYeBLj5g"
      }
    },
    {
      "cell_type": "code",
      "source": [
        "df = df.select(['UF','Ano','V1013','V1022','A002','A003','B0011','B0012','B0013','B0014','B0015','B0018',\n",
        "                'B0019','B00111','B002','B005','B006','B007','C001','C007D','C007E','C01011','C013','D0051'\n",
        "           ])"
      ],
      "metadata": {
        "id": "L4UgxQNuEXiG"
      },
      "execution_count": 18,
      "outputs": []
    },
    {
      "cell_type": "code",
      "source": [
        "df.show()"
      ],
      "metadata": {
        "id": "SLP_RbuWFaT7",
        "colab": {
          "base_uri": "https://localhost:8080/"
        },
        "outputId": "b43aece3-9bdf-42db-e0db-9a04fc7aaddc"
      },
      "execution_count": 19,
      "outputs": [
        {
          "output_type": "stream",
          "name": "stdout",
          "text": [
            "+---+----+-----+-----+----+----+-----+-----+-----+-----+-----+-----+-----+------+----+----+----+----+----+-----+-----+------+----+-----+\n",
            "| UF| Ano|V1013|V1022|A002|A003|B0011|B0012|B0013|B0014|B0015|B0018|B0019|B00111|B002|B005|B006|B007|C001|C007D|C007E|C01011|C013|D0051|\n",
            "+---+----+-----+-----+----+----+-----+-----+-----+-----+-----+-----+-----+------+----+----+----+----+----+-----+-----+------+----+-----+\n",
            "| 11|2020|    9|    1|  36|   1|    2|    2|    2|    2|    2|    2|    2|     2|NULL|NULL|NULL|   1|   1|    6| NULL|     4|NULL|    1|\n",
            "| 11|2020|    9|    1|  30|   2|    2|    2|    2|    2|    2|    2|    2|     2|NULL|NULL|NULL|   2|   1|   20| NULL|     4|NULL|    1|\n",
            "| 11|2020|    9|    1|  13|   1|    2|    2|    2|    2|    2|    2|    2|     2|NULL|NULL|NULL|   1|NULL| NULL| NULL|  NULL|NULL|    1|\n",
            "| 11|2020|    9|    1|  11|   1|    2|    2|    2|    2|    2|    2|    2|     2|NULL|NULL|NULL|   1|NULL| NULL| NULL|  NULL|NULL|    1|\n",
            "| 11|2020|    9|    1|  57|   2|    2|    2|    2|    2|    2|    2|    2|     2|NULL|NULL|NULL|   2|   2| NULL| NULL|  NULL|NULL|    2|\n",
            "| 11|2020|    9|    1|  58|   2|    2|    2|    2|    2|    2|    2|    2|     2|NULL|NULL|NULL|   2|   1|   25| NULL|     0|NULL|    2|\n",
            "| 11|2020|    9|    1|  47|   1|    2|    2|    2|    2|    2|    2|    2|     2|NULL|NULL|NULL|   2|   1|    5| NULL|     4|NULL|    1|\n",
            "| 11|2020|    9|    1|  18|   2|    2|    2|    2|    2|    2|    2|    2|     2|NULL|NULL|NULL|   2|   2| NULL| NULL|  NULL|NULL|    1|\n",
            "| 11|2020|    9|    1|  11|   1|    2|    2|    2|    2|    2|    2|    2|     2|NULL|NULL|NULL|   2|NULL| NULL| NULL|  NULL|NULL|    1|\n",
            "| 11|2020|    9|    1|   9|   2|    2|    2|    2|    2|    2|    2|    2|     2|NULL|NULL|NULL|   2|NULL| NULL| NULL|  NULL|NULL|    1|\n",
            "| 11|2020|    9|    1|  10|   1|    2|    2|    2|    2|    2|    2|    2|     2|NULL|NULL|NULL|   2|NULL| NULL| NULL|  NULL|NULL|    1|\n",
            "| 11|2020|    9|    1|  26|   1|    2|    2|    2|    2|    2|    2|    2|     2|NULL|NULL|NULL|   2|   1|    1| NULL|     4|NULL|    1|\n",
            "| 11|2020|    9|    1|  14|   1|    2|    2|    2|    2|    2|    2|    2|     2|NULL|NULL|NULL|   2|   2| NULL| NULL|  NULL|NULL|    1|\n",
            "| 11|2020|    9|    1|  15|   2|    2|    2|    2|    2|    2|    2|    2|     2|NULL|NULL|NULL|   2|   2| NULL| NULL|  NULL|NULL|    1|\n",
            "| 11|2020|    9|    1|  33|   2|    2|    2|    2|    2|    2|    2|    2|     2|NULL|NULL|NULL|   2|   2| NULL| NULL|  NULL|NULL|    1|\n",
            "| 11|2020|    9|    1|  62|   1|    2|    2|    2|    2|    2|    2|    2|     2|NULL|NULL|NULL|   2|   1|    7| NULL|     4|NULL|    1|\n",
            "| 11|2020|    9|    1|  62|   2|    2|    2|    2|    2|    2|    2|    2|     2|NULL|NULL|NULL|   2|   2| NULL| NULL|  NULL|NULL|    1|\n",
            "| 11|2020|    9|    1|  56|   2|    2|    2|    2|    2|    2|    2|    2|     2|NULL|NULL|NULL|   2|   2| NULL| NULL|  NULL|NULL|    1|\n",
            "| 11|2020|    9|    1|  53|   1|    2|    2|    2|    2|    2|    2|    2|     2|NULL|NULL|NULL|   2|   1|    5| NULL|     4|NULL|    1|\n",
            "| 11|2020|    9|    1|  17|   2|    2|    2|    2|    2|    2|    2|    2|     2|NULL|NULL|NULL|   2|   2| NULL| NULL|  NULL|NULL|    1|\n",
            "+---+----+-----+-----+----+----+-----+-----+-----+-----+-----+-----+-----+------+----+----+----+----+----+-----+-----+------+----+-----+\n",
            "only showing top 20 rows\n",
            "\n"
          ]
        }
      ]
    },
    {
      "cell_type": "markdown",
      "source": [
        "## Altering data and column names"
      ],
      "metadata": {
        "id": "e-csHJRNNJRo"
      }
    },
    {
      "cell_type": "code",
      "source": [
        "df"
      ],
      "metadata": {
        "id": "yc5l9m38L8Mw",
        "colab": {
          "base_uri": "https://localhost:8080/"
        },
        "outputId": "12265f6b-0885-4056-a93c-ea951f7ea310"
      },
      "execution_count": 20,
      "outputs": [
        {
          "output_type": "execute_result",
          "data": {
            "text/plain": [
              "DataFrame[UF: int, Ano: int, V1013: int, V1022: int, A002: int, A003: int, B0011: int, B0012: int, B0013: int, B0014: int, B0015: int, B0018: int, B0019: int, B00111: int, B002: int, B005: int, B006: int, B007: int, C001: int, C007D: int, C007E: int, C01011: int, C013: int, D0051: int]"
            ]
          },
          "metadata": {},
          "execution_count": 20
        }
      ]
    },
    {
      "cell_type": "code",
      "source": [
        "new_column_name_dict = {\n",
        "    \"UF\": 'state_code',\n",
        "    'Ano': 'year',\n",
        "    'V1013': 'month',\n",
        "    \"V1022\": \"housing_status\",\n",
        "    \"A002\": \"age\",\n",
        "    \"A003\": \"sex\",\n",
        "    \"B0011\": \"had_fever_last_week\",\n",
        "    \"B0012\": \"had_cough_last_week\",\n",
        "    \"B0013\": \"had_sore_throat_last_week\",\n",
        "    'B0014': \"had_trouble_breathing_last_week\",\n",
        "    \"B0015\": \"had_headache_last_week\",\n",
        "    \"B0018\": \"had_runny_nose_last_week\",\n",
        "    \"B0019\": \"had_lethargy_last_week\",\n",
        "    \"B00111\": \"had_loss_of_smell_last_week\",\n",
        "    \"B002\": \"went_to_healthcare_facility\",\n",
        "    \"B005\": \"was_hospitalized\",\n",
        "    \"B006\": \"used_ventilator\",\n",
        "    \"B007\": \"has_health_insurance\",\n",
        "    \"C001\": \"worked_last_week\",\n",
        "    \"C007D\": \"main_job_activity\",\n",
        "    \"C007E\": \"how_many_employees\",\n",
        "    \"C01011\": \"income_range\",\n",
        "    \"C013\": \"has_worked_remote\",\n",
        "    'D0051': \"coronavirus_related_aid\"\n",
        "}"
      ],
      "metadata": {
        "id": "UptZbKHpNyyp"
      },
      "execution_count": 21,
      "outputs": []
    },
    {
      "cell_type": "code",
      "source": [
        "for old_col, new_col in new_column_name_dict.items():\n",
        "    df = df.withColumnRenamed(old_col, new_col)"
      ],
      "metadata": {
        "id": "O8OBn5AxN4iw"
      },
      "execution_count": 22,
      "outputs": []
    },
    {
      "cell_type": "code",
      "source": [
        "df.show()"
      ],
      "metadata": {
        "id": "cEzt_aEmPqPA",
        "colab": {
          "base_uri": "https://localhost:8080/"
        },
        "outputId": "2837b44d-cdb7-42b4-e2b1-09d1ecef3ccd"
      },
      "execution_count": 23,
      "outputs": [
        {
          "output_type": "stream",
          "name": "stdout",
          "text": [
            "+----------+----+-----+--------------+---+---+-------------------+-------------------+-------------------------+-------------------------------+----------------------+------------------------+----------------------+---------------------------+---------------------------+----------------+---------------+--------------------+----------------+-----------------+------------------+------------+-----------------+-----------------------+\n",
            "|state_code|year|month|housing_status|age|sex|had_fever_last_week|had_cough_last_week|had_sore_throat_last_week|had_trouble_breathing_last_week|had_headache_last_week|had_runny_nose_last_week|had_lethargy_last_week|had_loss_of_smell_last_week|went_to_healthcare_facility|was_hospitalized|used_ventilator|has_health_insurance|worked_last_week|main_job_activity|how_many_employees|income_range|has_worked_remote|coronavirus_related_aid|\n",
            "+----------+----+-----+--------------+---+---+-------------------+-------------------+-------------------------+-------------------------------+----------------------+------------------------+----------------------+---------------------------+---------------------------+----------------+---------------+--------------------+----------------+-----------------+------------------+------------+-----------------+-----------------------+\n",
            "|        11|2020|    9|             1| 36|  1|                  2|                  2|                        2|                              2|                     2|                       2|                     2|                          2|                       NULL|            NULL|           NULL|                   1|               1|                6|              NULL|           4|             NULL|                      1|\n",
            "|        11|2020|    9|             1| 30|  2|                  2|                  2|                        2|                              2|                     2|                       2|                     2|                          2|                       NULL|            NULL|           NULL|                   2|               1|               20|              NULL|           4|             NULL|                      1|\n",
            "|        11|2020|    9|             1| 13|  1|                  2|                  2|                        2|                              2|                     2|                       2|                     2|                          2|                       NULL|            NULL|           NULL|                   1|            NULL|             NULL|              NULL|        NULL|             NULL|                      1|\n",
            "|        11|2020|    9|             1| 11|  1|                  2|                  2|                        2|                              2|                     2|                       2|                     2|                          2|                       NULL|            NULL|           NULL|                   1|            NULL|             NULL|              NULL|        NULL|             NULL|                      1|\n",
            "|        11|2020|    9|             1| 57|  2|                  2|                  2|                        2|                              2|                     2|                       2|                     2|                          2|                       NULL|            NULL|           NULL|                   2|               2|             NULL|              NULL|        NULL|             NULL|                      2|\n",
            "|        11|2020|    9|             1| 58|  2|                  2|                  2|                        2|                              2|                     2|                       2|                     2|                          2|                       NULL|            NULL|           NULL|                   2|               1|               25|              NULL|           0|             NULL|                      2|\n",
            "|        11|2020|    9|             1| 47|  1|                  2|                  2|                        2|                              2|                     2|                       2|                     2|                          2|                       NULL|            NULL|           NULL|                   2|               1|                5|              NULL|           4|             NULL|                      1|\n",
            "|        11|2020|    9|             1| 18|  2|                  2|                  2|                        2|                              2|                     2|                       2|                     2|                          2|                       NULL|            NULL|           NULL|                   2|               2|             NULL|              NULL|        NULL|             NULL|                      1|\n",
            "|        11|2020|    9|             1| 11|  1|                  2|                  2|                        2|                              2|                     2|                       2|                     2|                          2|                       NULL|            NULL|           NULL|                   2|            NULL|             NULL|              NULL|        NULL|             NULL|                      1|\n",
            "|        11|2020|    9|             1|  9|  2|                  2|                  2|                        2|                              2|                     2|                       2|                     2|                          2|                       NULL|            NULL|           NULL|                   2|            NULL|             NULL|              NULL|        NULL|             NULL|                      1|\n",
            "|        11|2020|    9|             1| 10|  1|                  2|                  2|                        2|                              2|                     2|                       2|                     2|                          2|                       NULL|            NULL|           NULL|                   2|            NULL|             NULL|              NULL|        NULL|             NULL|                      1|\n",
            "|        11|2020|    9|             1| 26|  1|                  2|                  2|                        2|                              2|                     2|                       2|                     2|                          2|                       NULL|            NULL|           NULL|                   2|               1|                1|              NULL|           4|             NULL|                      1|\n",
            "|        11|2020|    9|             1| 14|  1|                  2|                  2|                        2|                              2|                     2|                       2|                     2|                          2|                       NULL|            NULL|           NULL|                   2|               2|             NULL|              NULL|        NULL|             NULL|                      1|\n",
            "|        11|2020|    9|             1| 15|  2|                  2|                  2|                        2|                              2|                     2|                       2|                     2|                          2|                       NULL|            NULL|           NULL|                   2|               2|             NULL|              NULL|        NULL|             NULL|                      1|\n",
            "|        11|2020|    9|             1| 33|  2|                  2|                  2|                        2|                              2|                     2|                       2|                     2|                          2|                       NULL|            NULL|           NULL|                   2|               2|             NULL|              NULL|        NULL|             NULL|                      1|\n",
            "|        11|2020|    9|             1| 62|  1|                  2|                  2|                        2|                              2|                     2|                       2|                     2|                          2|                       NULL|            NULL|           NULL|                   2|               1|                7|              NULL|           4|             NULL|                      1|\n",
            "|        11|2020|    9|             1| 62|  2|                  2|                  2|                        2|                              2|                     2|                       2|                     2|                          2|                       NULL|            NULL|           NULL|                   2|               2|             NULL|              NULL|        NULL|             NULL|                      1|\n",
            "|        11|2020|    9|             1| 56|  2|                  2|                  2|                        2|                              2|                     2|                       2|                     2|                          2|                       NULL|            NULL|           NULL|                   2|               2|             NULL|              NULL|        NULL|             NULL|                      1|\n",
            "|        11|2020|    9|             1| 53|  1|                  2|                  2|                        2|                              2|                     2|                       2|                     2|                          2|                       NULL|            NULL|           NULL|                   2|               1|                5|              NULL|           4|             NULL|                      1|\n",
            "|        11|2020|    9|             1| 17|  2|                  2|                  2|                        2|                              2|                     2|                       2|                     2|                          2|                       NULL|            NULL|           NULL|                   2|               2|             NULL|              NULL|        NULL|             NULL|                      1|\n",
            "+----------+----+-----+--------------+---+---+-------------------+-------------------+-------------------------+-------------------------------+----------------------+------------------------+----------------------+---------------------------+---------------------------+----------------+---------------+--------------------+----------------+-----------------+------------------+------------+-----------------+-----------------------+\n",
            "only showing top 20 rows\n",
            "\n"
          ]
        }
      ]
    },
    {
      "cell_type": "code",
      "source": [
        "symptoms_dict = {\n",
        "    1: \"yes\",\n",
        "    2: \"no\",\n",
        "    3: \"dont_know\",\n",
        "    9: \"ignored\",\n",
        "    0: \"not_applicable\"\n",
        "}"
      ],
      "metadata": {
        "id": "jqx3oVwic_bO"
      },
      "execution_count": 24,
      "outputs": []
    },
    {
      "cell_type": "code",
      "source": [
        "# Columns to translate\n",
        "symptoms_cols = ['had_fever_last_week','had_cough_last_week',\n",
        "                 'had_sore_throat_last_week','had_headache_last_week','had_runny_nose_last_week',\n",
        "                 'had_lethargy_last_week','had_loss_of_smell_last_week','went_to_healthcare_facility','was_hospitalized','has_health_insurance',\n",
        "                 'worked_last_week','has_worked_remote','coronavirus_related_aid','used_ventilator','had_trouble_breathing_last_week']\n",
        "\n",
        "work_cols = ['main_job_activity','how_many_employees','income_range']"
      ],
      "metadata": {
        "id": "hiaFSn-6dSsp"
      },
      "execution_count": 25,
      "outputs": []
    },
    {
      "cell_type": "code",
      "source": [
        "brazil_states = {\n",
        "    11: \"RO\",\n",
        "    12: \"AC\",\n",
        "    13: \"AM\",\n",
        "    14: \"RR\",\n",
        "    15: \"PA\",\n",
        "    16: \"AP\",\n",
        "    17: \"TO\",\n",
        "    21: \"MA\",\n",
        "    22: \"PI\",\n",
        "    23: \"CE\",\n",
        "    24: \"RN\",\n",
        "    25: \"PB\",\n",
        "    26: \"PE\",\n",
        "    27: \"AL\",\n",
        "    28: \"SE\",\n",
        "    29: \"BA\",\n",
        "    31: \"MG\",\n",
        "    32: \"ES\",\n",
        "    33: \"RJ\",\n",
        "    35: \"SP\",\n",
        "    41: \"PR\",\n",
        "    42: \"SC\",\n",
        "    43: \"RS\",\n",
        "    50: \"MS\",\n",
        "    51: \"MT\",\n",
        "    52: \"GO\",\n",
        "    53: \"DF\"\n",
        "}"
      ],
      "metadata": {
        "id": "Uy7T1udnNOjV"
      },
      "execution_count": 26,
      "outputs": []
    },
    {
      "cell_type": "code",
      "source": [
        "\n",
        "sector_translation = {\n",
        "    1: \"agriculture_livestock_forestry_and_fishing\",\n",
        "    2: \"extraction_of_petroleum_coal_metallic_minerals_stone_sand_salt_etc\",\n",
        "    3: \"manufacturing_industry_including_clothing_and_homemade_manufacturing\",\n",
        "    4: \"supply_of_electricity_and_gas_water_sewerage_and_garbage_collection\",\n",
        "    5: \"construction\",\n",
        "    6: \"wholesale_and_retail_trade\",\n",
        "    7: \"repair_of_motor_vehicles_and_motorcycles\",\n",
        "    8: \"passenger_transport\",\n",
        "    9: \"freight_transport\",\n",
        "    10: \"storage_post_and_delivery_services\",\n",
        "    11: \"accommodation_hotels_inns_etc\",\n",
        "    12: \"food_service_bars_restaurants_food_vendors\",\n",
        "    13: \"information_and_communication_newspapers_radio_and_television_telecommunications_and_it\",\n",
        "    14: \"banks_financial_and_insurance_activities\",\n",
        "    15: \"real_estate_activities\",\n",
        "    16: \"law_firms_engineering_advertising_and_veterinary_services_professional_scientific_and_technical_activities\",\n",
        "    17: \"labor_leasing_security_cleaning_landscaping_and_call_center_activities\",\n",
        "    18: \"public_administration_federal_state_and_municipal_government\",\n",
        "    19: \"education\",\n",
        "    20: \"human_health_and_social_assistance\",\n",
        "    21: \"religious_organizations_unions_and_associations\",\n",
        "    22: \"artistic_sports_and_recreational_activities\",\n",
        "    23: \"hairdressing_beauty_treatment_and_personal_services\",\n",
        "    24: \"paid_domestic_service_to_be_reported_under_occupation\",\n",
        "    25: \"other\",\n",
        "    0: \"not_applicable\"\n",
        "}"
      ],
      "metadata": {
        "id": "GZLuMsz7AKng"
      },
      "execution_count": 27,
      "outputs": []
    },
    {
      "cell_type": "code",
      "source": [
        "employee_translation = {\n",
        "    1: \"1_to_5\",\n",
        "    2: \"6_to_10\",\n",
        "    3: \"11+\",\n",
        "    0: \"not_applicable\"\n",
        "}"
      ],
      "metadata": {
        "id": "gVTseXIADjho"
      },
      "execution_count": 28,
      "outputs": []
    },
    {
      "cell_type": "code",
      "source": [
        "income_range = {\n",
        "    0: \"0-100\",\n",
        "    1: \"101-300\",\n",
        "    2: \"301-600\",\n",
        "    3: \"601-800\",\n",
        "    4: \"801-1,600\",\n",
        "    5: \"1,601-3,000\",\n",
        "    6: \"3,001-10,000\",\n",
        "    7: \"10,001-50,000\",\n",
        "    8: \"50,001-100,000\",\n",
        "    9: \"100,000+\",\n",
        "    0: \"not_applicable\"\n",
        "}"
      ],
      "metadata": {
        "id": "vv2BOsEIEGl0"
      },
      "execution_count": 29,
      "outputs": []
    },
    {
      "cell_type": "code",
      "source": [
        "df.schema"
      ],
      "metadata": {
        "id": "YgcaLrirNpJP",
        "colab": {
          "base_uri": "https://localhost:8080/"
        },
        "outputId": "f7e3cbff-70df-4795-8af3-f1d6f357d560"
      },
      "execution_count": 58,
      "outputs": [
        {
          "output_type": "execute_result",
          "data": {
            "text/plain": [
              "StructType([StructField('state_code', IntegerType(), True), StructField('year', IntegerType(), True), StructField('month', IntegerType(), True), StructField('housing_status', IntegerType(), True), StructField('age', IntegerType(), True), StructField('sex', IntegerType(), True), StructField('had_fever_last_week', StringType(), True), StructField('had_cough_last_week', StringType(), True), StructField('had_sore_throat_last_week', StringType(), True), StructField('had_trouble_breathing_last_week', StringType(), True), StructField('had_headache_last_week', StringType(), True), StructField('had_runny_nose_last_week', StringType(), True), StructField('had_lethargy_last_week', StringType(), True), StructField('had_loss_of_smell_last_week', StringType(), True), StructField('went_to_healthcare_facility', StringType(), True), StructField('was_hospitalized', StringType(), True), StructField('used_ventilator', StringType(), True), StructField('has_health_insurance', StringType(), True), StructField('worked_last_week', StringType(), True), StructField('main_job_activity', IntegerType(), True), StructField('how_many_employees', IntegerType(), True), StructField('income_range', IntegerType(), True), StructField('has_worked_remote', StringType(), True), StructField('coronavirus_related_aid', StringType(), True)])"
            ]
          },
          "metadata": {},
          "execution_count": 58
        }
      ]
    },
    {
      "cell_type": "code",
      "source": [
        "df.show(5)"
      ],
      "metadata": {
        "id": "bwkh4eInemqj",
        "colab": {
          "base_uri": "https://localhost:8080/"
        },
        "outputId": "ed42c4b5-432b-435e-d680-fe16137016e9"
      },
      "execution_count": 59,
      "outputs": [
        {
          "output_type": "stream",
          "name": "stdout",
          "text": [
            "+----------+----+-----+--------------+---+---+-------------------+-------------------+-------------------------+-------------------------------+----------------------+------------------------+----------------------+---------------------------+---------------------------+----------------+---------------+--------------------+----------------+-----------------+------------------+------------+-----------------+-----------------------+\n",
            "|state_code|year|month|housing_status|age|sex|had_fever_last_week|had_cough_last_week|had_sore_throat_last_week|had_trouble_breathing_last_week|had_headache_last_week|had_runny_nose_last_week|had_lethargy_last_week|had_loss_of_smell_last_week|went_to_healthcare_facility|was_hospitalized|used_ventilator|has_health_insurance|worked_last_week|main_job_activity|how_many_employees|income_range|has_worked_remote|coronavirus_related_aid|\n",
            "+----------+----+-----+--------------+---+---+-------------------+-------------------+-------------------------+-------------------------------+----------------------+------------------------+----------------------+---------------------------+---------------------------+----------------+---------------+--------------------+----------------+-----------------+------------------+------------+-----------------+-----------------------+\n",
            "|        11|2020|    9|             1| 36|  1|                  2|                  2|                        2|                              2|                     2|                       2|                     2|                          2|                       NULL|            NULL|           NULL|                   1|               1|                6|              NULL|           4|             NULL|                      1|\n",
            "|        11|2020|    9|             1| 30|  2|                  2|                  2|                        2|                              2|                     2|                       2|                     2|                          2|                       NULL|            NULL|           NULL|                   2|               1|               20|              NULL|           4|             NULL|                      1|\n",
            "|        11|2020|    9|             1| 13|  1|                  2|                  2|                        2|                              2|                     2|                       2|                     2|                          2|                       NULL|            NULL|           NULL|                   1|            NULL|             NULL|              NULL|        NULL|             NULL|                      1|\n",
            "|        11|2020|    9|             1| 11|  1|                  2|                  2|                        2|                              2|                     2|                       2|                     2|                          2|                       NULL|            NULL|           NULL|                   1|            NULL|             NULL|              NULL|        NULL|             NULL|                      1|\n",
            "|        11|2020|    9|             1| 57|  2|                  2|                  2|                        2|                              2|                     2|                       2|                     2|                          2|                       NULL|            NULL|           NULL|                   2|               2|             NULL|              NULL|        NULL|             NULL|                      2|\n",
            "+----------+----+-----+--------------+---+---+-------------------+-------------------+-------------------------+-------------------------------+----------------------+------------------------+----------------------+---------------------------+---------------------------+----------------+---------------+--------------------+----------------+-----------------+------------------+------------+-----------------+-----------------------+\n",
            "only showing top 5 rows\n",
            "\n"
          ]
        }
      ]
    },
    {
      "cell_type": "code",
      "source": [
        "#Viewing the dataframe schema\n",
        "df.printSchema()"
      ],
      "metadata": {
        "colab": {
          "base_uri": "https://localhost:8080/"
        },
        "id": "ibOiHOLXfEPw",
        "outputId": "77dde447-7f2f-427f-c4a5-f895508b92bd"
      },
      "execution_count": 40,
      "outputs": [
        {
          "output_type": "stream",
          "name": "stdout",
          "text": [
            "root\n",
            " |-- state_code: integer (nullable = true)\n",
            " |-- year: integer (nullable = true)\n",
            " |-- month: integer (nullable = true)\n",
            " |-- housing_status: integer (nullable = true)\n",
            " |-- age: integer (nullable = true)\n",
            " |-- sex: integer (nullable = true)\n",
            " |-- had_fever_last_week: integer (nullable = true)\n",
            " |-- had_cough_last_week: integer (nullable = true)\n",
            " |-- had_sore_throat_last_week: integer (nullable = true)\n",
            " |-- had_trouble_breathing_last_week: integer (nullable = true)\n",
            " |-- had_headache_last_week: integer (nullable = true)\n",
            " |-- had_runny_nose_last_week: integer (nullable = true)\n",
            " |-- had_lethargy_last_week: integer (nullable = true)\n",
            " |-- had_loss_of_smell_last_week: integer (nullable = true)\n",
            " |-- went_to_healthcare_facility: integer (nullable = true)\n",
            " |-- was_hospitalized: integer (nullable = true)\n",
            " |-- used_ventilator: integer (nullable = true)\n",
            " |-- has_health_insurance: integer (nullable = true)\n",
            " |-- worked_last_week: integer (nullable = true)\n",
            " |-- main_job_activity: integer (nullable = true)\n",
            " |-- how_many_employees: integer (nullable = true)\n",
            " |-- income_range: integer (nullable = true)\n",
            " |-- has_worked_remote: integer (nullable = true)\n",
            " |-- coronavirus_related_aid: integer (nullable = true)\n",
            "\n"
          ]
        }
      ]
    },
    {
      "cell_type": "code",
      "source": [
        "def translate_and_cast(value):\n",
        "    return symptoms_dict.get(value, None)\n",
        "\n",
        "translate_udf = udf(translate_and_cast, StringType())\n",
        "\n",
        "# Apply the UDF to the selected columns\n",
        "for column in symptoms_cols:\n",
        "    df = df.withColumn(column, translate_udf(col(column)))"
      ],
      "metadata": {
        "id": "h-bYwcsPe9BJ"
      },
      "execution_count": 47,
      "outputs": []
    },
    {
      "cell_type": "code",
      "source": [
        "df.show()"
      ],
      "metadata": {
        "colab": {
          "base_uri": "https://localhost:8080/"
        },
        "id": "Ct-852dhwalx",
        "outputId": "42877fe2-e130-469b-a33c-fbd3adfec79e"
      },
      "execution_count": 48,
      "outputs": [
        {
          "output_type": "stream",
          "name": "stdout",
          "text": [
            "+----------+----+-----+--------------+---+---+-------------------+-------------------+-------------------------+-------------------------------+----------------------+------------------------+----------------------+---------------------------+---------------------------+----------------+---------------+--------------------+----------------+--------------------+------------------+------------+-----------------+-----------------------+\n",
            "|state_code|year|month|housing_status|age|sex|had_fever_last_week|had_cough_last_week|had_sore_throat_last_week|had_trouble_breathing_last_week|had_headache_last_week|had_runny_nose_last_week|had_lethargy_last_week|had_loss_of_smell_last_week|went_to_healthcare_facility|was_hospitalized|used_ventilator|has_health_insurance|worked_last_week|   main_job_activity|how_many_employees|income_range|has_worked_remote|coronavirus_related_aid|\n",
            "+----------+----+-----+--------------+---+---+-------------------+-------------------+-------------------------+-------------------------------+----------------------+------------------------+----------------------+---------------------------+---------------------------+----------------+---------------+--------------------+----------------+--------------------+------------------+------------+-----------------+-----------------------+\n",
            "|        11|2020|    9|             1| 36|  1|                 no|                 no|                       no|                             no|                    no|                      no|                    no|                         no|                       NULL|            NULL|           NULL|                 yes|             yes|wholesale_and_ret...|              NULL|           4|             NULL|                    yes|\n",
            "|        11|2020|    9|             1| 30|  2|                 no|                 no|                       no|                             no|                    no|                      no|                    no|                         no|                       NULL|            NULL|           NULL|                  no|             yes|human_health_and_...|              NULL|           4|             NULL|                    yes|\n",
            "|        11|2020|    9|             1| 13|  1|                 no|                 no|                       no|                             no|                    no|                      no|                    no|                         no|                       NULL|            NULL|           NULL|                 yes|            NULL|                NULL|              NULL|        NULL|             NULL|                    yes|\n",
            "|        11|2020|    9|             1| 11|  1|                 no|                 no|                       no|                             no|                    no|                      no|                    no|                         no|                       NULL|            NULL|           NULL|                 yes|            NULL|                NULL|              NULL|        NULL|             NULL|                    yes|\n",
            "|        11|2020|    9|             1| 57|  2|                 no|                 no|                       no|                             no|                    no|                      no|                    no|                         no|                       NULL|            NULL|           NULL|                  no|              no|                NULL|              NULL|        NULL|             NULL|                     no|\n",
            "|        11|2020|    9|             1| 58|  2|                 no|                 no|                       no|                             no|                    no|                      no|                    no|                         no|                       NULL|            NULL|           NULL|                  no|             yes|               other|              NULL|           0|             NULL|                     no|\n",
            "|        11|2020|    9|             1| 47|  1|                 no|                 no|                       no|                             no|                    no|                      no|                    no|                         no|                       NULL|            NULL|           NULL|                  no|             yes|        construction|              NULL|           4|             NULL|                    yes|\n",
            "|        11|2020|    9|             1| 18|  2|                 no|                 no|                       no|                             no|                    no|                      no|                    no|                         no|                       NULL|            NULL|           NULL|                  no|              no|                NULL|              NULL|        NULL|             NULL|                    yes|\n",
            "|        11|2020|    9|             1| 11|  1|                 no|                 no|                       no|                             no|                    no|                      no|                    no|                         no|                       NULL|            NULL|           NULL|                  no|            NULL|                NULL|              NULL|        NULL|             NULL|                    yes|\n",
            "|        11|2020|    9|             1|  9|  2|                 no|                 no|                       no|                             no|                    no|                      no|                    no|                         no|                       NULL|            NULL|           NULL|                  no|            NULL|                NULL|              NULL|        NULL|             NULL|                    yes|\n",
            "|        11|2020|    9|             1| 10|  1|                 no|                 no|                       no|                             no|                    no|                      no|                    no|                         no|                       NULL|            NULL|           NULL|                  no|            NULL|                NULL|              NULL|        NULL|             NULL|                    yes|\n",
            "|        11|2020|    9|             1| 26|  1|                 no|                 no|                       no|                             no|                    no|                      no|                    no|                         no|                       NULL|            NULL|           NULL|                  no|             yes|agriculture_lives...|              NULL|           4|             NULL|                    yes|\n",
            "|        11|2020|    9|             1| 14|  1|                 no|                 no|                       no|                             no|                    no|                      no|                    no|                         no|                       NULL|            NULL|           NULL|                  no|              no|                NULL|              NULL|        NULL|             NULL|                    yes|\n",
            "|        11|2020|    9|             1| 15|  2|                 no|                 no|                       no|                             no|                    no|                      no|                    no|                         no|                       NULL|            NULL|           NULL|                  no|              no|                NULL|              NULL|        NULL|             NULL|                    yes|\n",
            "|        11|2020|    9|             1| 33|  2|                 no|                 no|                       no|                             no|                    no|                      no|                    no|                         no|                       NULL|            NULL|           NULL|                  no|              no|                NULL|              NULL|        NULL|             NULL|                    yes|\n",
            "|        11|2020|    9|             1| 62|  1|                 no|                 no|                       no|                             no|                    no|                      no|                    no|                         no|                       NULL|            NULL|           NULL|                  no|             yes|repair_of_motor_v...|              NULL|           4|             NULL|                    yes|\n",
            "|        11|2020|    9|             1| 62|  2|                 no|                 no|                       no|                             no|                    no|                      no|                    no|                         no|                       NULL|            NULL|           NULL|                  no|              no|                NULL|              NULL|        NULL|             NULL|                    yes|\n",
            "|        11|2020|    9|             1| 56|  2|                 no|                 no|                       no|                             no|                    no|                      no|                    no|                         no|                       NULL|            NULL|           NULL|                  no|              no|                NULL|              NULL|        NULL|             NULL|                    yes|\n",
            "|        11|2020|    9|             1| 53|  1|                 no|                 no|                       no|                             no|                    no|                      no|                    no|                         no|                       NULL|            NULL|           NULL|                  no|             yes|        construction|              NULL|           4|             NULL|                    yes|\n",
            "|        11|2020|    9|             1| 17|  2|                 no|                 no|                       no|                             no|                    no|                      no|                    no|                         no|                       NULL|            NULL|           NULL|                  no|              no|                NULL|              NULL|        NULL|             NULL|                    yes|\n",
            "+----------+----+-----+--------------+---+---+-------------------+-------------------+-------------------------+-------------------------------+----------------------+------------------------+----------------------+---------------------------+---------------------------+----------------+---------------+--------------------+----------------+--------------------+------------------+------------+-----------------+-----------------------+\n",
            "only showing top 20 rows\n",
            "\n"
          ]
        }
      ]
    },
    {
      "cell_type": "code",
      "source": [
        "def translate_and_cast_state(value):\n",
        "    return brazil_states.get(value, None)\n",
        "\n",
        "translate_udf = udf(translate_and_cast_state, StringType())\n",
        "\n",
        "# Apply the UDF to the selected columns\n",
        "df = df.withColumn(\"state_code\", col(\"state_code\").cast(IntegerType()))\n",
        "df = df.withColumn('state_code', translate_udf(col('state_code')))"
      ],
      "metadata": {
        "id": "WX2fu84S-l4p"
      },
      "execution_count": 49,
      "outputs": []
    },
    {
      "cell_type": "code",
      "source": [
        "df.show()"
      ],
      "metadata": {
        "id": "TiqrDDa7_Tnv",
        "colab": {
          "base_uri": "https://localhost:8080/"
        },
        "outputId": "d8d3a524-bc05-4a27-f526-02c2918f018e"
      },
      "execution_count": 50,
      "outputs": [
        {
          "output_type": "stream",
          "name": "stdout",
          "text": [
            "+----------+----+-----+--------------+---+---+-------------------+-------------------+-------------------------+-------------------------------+----------------------+------------------------+----------------------+---------------------------+---------------------------+----------------+---------------+--------------------+----------------+--------------------+------------------+------------+-----------------+-----------------------+\n",
            "|state_code|year|month|housing_status|age|sex|had_fever_last_week|had_cough_last_week|had_sore_throat_last_week|had_trouble_breathing_last_week|had_headache_last_week|had_runny_nose_last_week|had_lethargy_last_week|had_loss_of_smell_last_week|went_to_healthcare_facility|was_hospitalized|used_ventilator|has_health_insurance|worked_last_week|   main_job_activity|how_many_employees|income_range|has_worked_remote|coronavirus_related_aid|\n",
            "+----------+----+-----+--------------+---+---+-------------------+-------------------+-------------------------+-------------------------------+----------------------+------------------------+----------------------+---------------------------+---------------------------+----------------+---------------+--------------------+----------------+--------------------+------------------+------------+-----------------+-----------------------+\n",
            "|        RO|2020|    9|             1| 36|  1|                 no|                 no|                       no|                             no|                    no|                      no|                    no|                         no|                       NULL|            NULL|           NULL|                 yes|             yes|wholesale_and_ret...|              NULL|           4|             NULL|                    yes|\n",
            "|        RO|2020|    9|             1| 30|  2|                 no|                 no|                       no|                             no|                    no|                      no|                    no|                         no|                       NULL|            NULL|           NULL|                  no|             yes|human_health_and_...|              NULL|           4|             NULL|                    yes|\n",
            "|        RO|2020|    9|             1| 13|  1|                 no|                 no|                       no|                             no|                    no|                      no|                    no|                         no|                       NULL|            NULL|           NULL|                 yes|            NULL|                NULL|              NULL|        NULL|             NULL|                    yes|\n",
            "|        RO|2020|    9|             1| 11|  1|                 no|                 no|                       no|                             no|                    no|                      no|                    no|                         no|                       NULL|            NULL|           NULL|                 yes|            NULL|                NULL|              NULL|        NULL|             NULL|                    yes|\n",
            "|        RO|2020|    9|             1| 57|  2|                 no|                 no|                       no|                             no|                    no|                      no|                    no|                         no|                       NULL|            NULL|           NULL|                  no|              no|                NULL|              NULL|        NULL|             NULL|                     no|\n",
            "|        RO|2020|    9|             1| 58|  2|                 no|                 no|                       no|                             no|                    no|                      no|                    no|                         no|                       NULL|            NULL|           NULL|                  no|             yes|               other|              NULL|           0|             NULL|                     no|\n",
            "|        RO|2020|    9|             1| 47|  1|                 no|                 no|                       no|                             no|                    no|                      no|                    no|                         no|                       NULL|            NULL|           NULL|                  no|             yes|        construction|              NULL|           4|             NULL|                    yes|\n",
            "|        RO|2020|    9|             1| 18|  2|                 no|                 no|                       no|                             no|                    no|                      no|                    no|                         no|                       NULL|            NULL|           NULL|                  no|              no|                NULL|              NULL|        NULL|             NULL|                    yes|\n",
            "|        RO|2020|    9|             1| 11|  1|                 no|                 no|                       no|                             no|                    no|                      no|                    no|                         no|                       NULL|            NULL|           NULL|                  no|            NULL|                NULL|              NULL|        NULL|             NULL|                    yes|\n",
            "|        RO|2020|    9|             1|  9|  2|                 no|                 no|                       no|                             no|                    no|                      no|                    no|                         no|                       NULL|            NULL|           NULL|                  no|            NULL|                NULL|              NULL|        NULL|             NULL|                    yes|\n",
            "|        RO|2020|    9|             1| 10|  1|                 no|                 no|                       no|                             no|                    no|                      no|                    no|                         no|                       NULL|            NULL|           NULL|                  no|            NULL|                NULL|              NULL|        NULL|             NULL|                    yes|\n",
            "|        RO|2020|    9|             1| 26|  1|                 no|                 no|                       no|                             no|                    no|                      no|                    no|                         no|                       NULL|            NULL|           NULL|                  no|             yes|agriculture_lives...|              NULL|           4|             NULL|                    yes|\n",
            "|        RO|2020|    9|             1| 14|  1|                 no|                 no|                       no|                             no|                    no|                      no|                    no|                         no|                       NULL|            NULL|           NULL|                  no|              no|                NULL|              NULL|        NULL|             NULL|                    yes|\n",
            "|        RO|2020|    9|             1| 15|  2|                 no|                 no|                       no|                             no|                    no|                      no|                    no|                         no|                       NULL|            NULL|           NULL|                  no|              no|                NULL|              NULL|        NULL|             NULL|                    yes|\n",
            "|        RO|2020|    9|             1| 33|  2|                 no|                 no|                       no|                             no|                    no|                      no|                    no|                         no|                       NULL|            NULL|           NULL|                  no|              no|                NULL|              NULL|        NULL|             NULL|                    yes|\n",
            "|        RO|2020|    9|             1| 62|  1|                 no|                 no|                       no|                             no|                    no|                      no|                    no|                         no|                       NULL|            NULL|           NULL|                  no|             yes|repair_of_motor_v...|              NULL|           4|             NULL|                    yes|\n",
            "|        RO|2020|    9|             1| 62|  2|                 no|                 no|                       no|                             no|                    no|                      no|                    no|                         no|                       NULL|            NULL|           NULL|                  no|              no|                NULL|              NULL|        NULL|             NULL|                    yes|\n",
            "|        RO|2020|    9|             1| 56|  2|                 no|                 no|                       no|                             no|                    no|                      no|                    no|                         no|                       NULL|            NULL|           NULL|                  no|              no|                NULL|              NULL|        NULL|             NULL|                    yes|\n",
            "|        RO|2020|    9|             1| 53|  1|                 no|                 no|                       no|                             no|                    no|                      no|                    no|                         no|                       NULL|            NULL|           NULL|                  no|             yes|        construction|              NULL|           4|             NULL|                    yes|\n",
            "|        RO|2020|    9|             1| 17|  2|                 no|                 no|                       no|                             no|                    no|                      no|                    no|                         no|                       NULL|            NULL|           NULL|                  no|              no|                NULL|              NULL|        NULL|             NULL|                    yes|\n",
            "+----------+----+-----+--------------+---+---+-------------------+-------------------+-------------------------+-------------------------------+----------------------+------------------------+----------------------+---------------------------+---------------------------+----------------+---------------+--------------------+----------------+--------------------+------------------+------------+-----------------+-----------------------+\n",
            "only showing top 20 rows\n",
            "\n"
          ]
        }
      ]
    },
    {
      "cell_type": "code",
      "source": [
        "def translate_and_cast_sector(value):\n",
        "    return sector_translation.get(value, None)\n",
        "\n",
        "translate_udf = udf(translate_and_cast_sector, StringType())\n",
        "\n",
        "# Apply the UDF to the selected columns\n",
        "\n",
        "df = df.withColumn('main_job_activity', translate_udf(col('main_job_activity')))"
      ],
      "metadata": {
        "id": "LbuBrpUOBnab"
      },
      "execution_count": 41,
      "outputs": []
    },
    {
      "cell_type": "code",
      "source": [
        "df.show()"
      ],
      "metadata": {
        "id": "SwgElwWlBqLB",
        "colab": {
          "base_uri": "https://localhost:8080/"
        },
        "outputId": "89030c6d-77cb-4f81-a65f-66a7ac2b07eb"
      },
      "execution_count": 42,
      "outputs": [
        {
          "output_type": "stream",
          "name": "stdout",
          "text": [
            "+----------+----+-----+--------------+---+---+-------------------+-------------------+-------------------------+-------------------------------+----------------------+------------------------+----------------------+---------------------------+---------------------------+----------------+---------------+--------------------+----------------+--------------------+------------------+------------+-----------------+-----------------------+\n",
            "|state_code|year|month|housing_status|age|sex|had_fever_last_week|had_cough_last_week|had_sore_throat_last_week|had_trouble_breathing_last_week|had_headache_last_week|had_runny_nose_last_week|had_lethargy_last_week|had_loss_of_smell_last_week|went_to_healthcare_facility|was_hospitalized|used_ventilator|has_health_insurance|worked_last_week|   main_job_activity|how_many_employees|income_range|has_worked_remote|coronavirus_related_aid|\n",
            "+----------+----+-----+--------------+---+---+-------------------+-------------------+-------------------------+-------------------------------+----------------------+------------------------+----------------------+---------------------------+---------------------------+----------------+---------------+--------------------+----------------+--------------------+------------------+------------+-----------------+-----------------------+\n",
            "|        11|2020|    9|             1| 36|  1|                  2|                  2|                        2|                              2|                     2|                       2|                     2|                          2|                       NULL|            NULL|           NULL|                   1|               1|wholesale_and_ret...|              NULL|           4|             NULL|                      1|\n",
            "|        11|2020|    9|             1| 30|  2|                  2|                  2|                        2|                              2|                     2|                       2|                     2|                          2|                       NULL|            NULL|           NULL|                   2|               1|human_health_and_...|              NULL|           4|             NULL|                      1|\n",
            "|        11|2020|    9|             1| 13|  1|                  2|                  2|                        2|                              2|                     2|                       2|                     2|                          2|                       NULL|            NULL|           NULL|                   1|            NULL|                NULL|              NULL|        NULL|             NULL|                      1|\n",
            "|        11|2020|    9|             1| 11|  1|                  2|                  2|                        2|                              2|                     2|                       2|                     2|                          2|                       NULL|            NULL|           NULL|                   1|            NULL|                NULL|              NULL|        NULL|             NULL|                      1|\n",
            "|        11|2020|    9|             1| 57|  2|                  2|                  2|                        2|                              2|                     2|                       2|                     2|                          2|                       NULL|            NULL|           NULL|                   2|               2|                NULL|              NULL|        NULL|             NULL|                      2|\n",
            "|        11|2020|    9|             1| 58|  2|                  2|                  2|                        2|                              2|                     2|                       2|                     2|                          2|                       NULL|            NULL|           NULL|                   2|               1|               other|              NULL|           0|             NULL|                      2|\n",
            "|        11|2020|    9|             1| 47|  1|                  2|                  2|                        2|                              2|                     2|                       2|                     2|                          2|                       NULL|            NULL|           NULL|                   2|               1|        construction|              NULL|           4|             NULL|                      1|\n",
            "|        11|2020|    9|             1| 18|  2|                  2|                  2|                        2|                              2|                     2|                       2|                     2|                          2|                       NULL|            NULL|           NULL|                   2|               2|                NULL|              NULL|        NULL|             NULL|                      1|\n",
            "|        11|2020|    9|             1| 11|  1|                  2|                  2|                        2|                              2|                     2|                       2|                     2|                          2|                       NULL|            NULL|           NULL|                   2|            NULL|                NULL|              NULL|        NULL|             NULL|                      1|\n",
            "|        11|2020|    9|             1|  9|  2|                  2|                  2|                        2|                              2|                     2|                       2|                     2|                          2|                       NULL|            NULL|           NULL|                   2|            NULL|                NULL|              NULL|        NULL|             NULL|                      1|\n",
            "|        11|2020|    9|             1| 10|  1|                  2|                  2|                        2|                              2|                     2|                       2|                     2|                          2|                       NULL|            NULL|           NULL|                   2|            NULL|                NULL|              NULL|        NULL|             NULL|                      1|\n",
            "|        11|2020|    9|             1| 26|  1|                  2|                  2|                        2|                              2|                     2|                       2|                     2|                          2|                       NULL|            NULL|           NULL|                   2|               1|agriculture_lives...|              NULL|           4|             NULL|                      1|\n",
            "|        11|2020|    9|             1| 14|  1|                  2|                  2|                        2|                              2|                     2|                       2|                     2|                          2|                       NULL|            NULL|           NULL|                   2|               2|                NULL|              NULL|        NULL|             NULL|                      1|\n",
            "|        11|2020|    9|             1| 15|  2|                  2|                  2|                        2|                              2|                     2|                       2|                     2|                          2|                       NULL|            NULL|           NULL|                   2|               2|                NULL|              NULL|        NULL|             NULL|                      1|\n",
            "|        11|2020|    9|             1| 33|  2|                  2|                  2|                        2|                              2|                     2|                       2|                     2|                          2|                       NULL|            NULL|           NULL|                   2|               2|                NULL|              NULL|        NULL|             NULL|                      1|\n",
            "|        11|2020|    9|             1| 62|  1|                  2|                  2|                        2|                              2|                     2|                       2|                     2|                          2|                       NULL|            NULL|           NULL|                   2|               1|repair_of_motor_v...|              NULL|           4|             NULL|                      1|\n",
            "|        11|2020|    9|             1| 62|  2|                  2|                  2|                        2|                              2|                     2|                       2|                     2|                          2|                       NULL|            NULL|           NULL|                   2|               2|                NULL|              NULL|        NULL|             NULL|                      1|\n",
            "|        11|2020|    9|             1| 56|  2|                  2|                  2|                        2|                              2|                     2|                       2|                     2|                          2|                       NULL|            NULL|           NULL|                   2|               2|                NULL|              NULL|        NULL|             NULL|                      1|\n",
            "|        11|2020|    9|             1| 53|  1|                  2|                  2|                        2|                              2|                     2|                       2|                     2|                          2|                       NULL|            NULL|           NULL|                   2|               1|        construction|              NULL|           4|             NULL|                      1|\n",
            "|        11|2020|    9|             1| 17|  2|                  2|                  2|                        2|                              2|                     2|                       2|                     2|                          2|                       NULL|            NULL|           NULL|                   2|               2|                NULL|              NULL|        NULL|             NULL|                      1|\n",
            "+----------+----+-----+--------------+---+---+-------------------+-------------------+-------------------------+-------------------------------+----------------------+------------------------+----------------------+---------------------------+---------------------------+----------------+---------------+--------------------+----------------+--------------------+------------------+------------+-----------------+-----------------------+\n",
            "only showing top 20 rows\n",
            "\n"
          ]
        }
      ]
    },
    {
      "cell_type": "code",
      "source": [
        "def translate_and_cast_n_of_employees(value):\n",
        "    return employee_translation.get(value, None)\n",
        "\n",
        "translate_udf = udf(translate_and_cast_sector, StringType())\n",
        "\n",
        "# Apply the UDF to the selected columns\n",
        "\n",
        "df = df.withColumn('how_many_employees', translate_udf(col('how_many_employees')))"
      ],
      "metadata": {
        "id": "x1_7D6fYDsPH"
      },
      "execution_count": 51,
      "outputs": []
    },
    {
      "cell_type": "code",
      "source": [
        "df.show()"
      ],
      "metadata": {
        "id": "hd0maUJdDzKB",
        "colab": {
          "base_uri": "https://localhost:8080/"
        },
        "outputId": "a96840c6-9be9-4387-c8d6-2851735ca888"
      },
      "execution_count": 52,
      "outputs": [
        {
          "output_type": "stream",
          "name": "stdout",
          "text": [
            "+----------+----+-----+--------------+---+---+-------------------+-------------------+-------------------------+-------------------------------+----------------------+------------------------+----------------------+---------------------------+---------------------------+----------------+---------------+--------------------+----------------+--------------------+------------------+------------+-----------------+-----------------------+\n",
            "|state_code|year|month|housing_status|age|sex|had_fever_last_week|had_cough_last_week|had_sore_throat_last_week|had_trouble_breathing_last_week|had_headache_last_week|had_runny_nose_last_week|had_lethargy_last_week|had_loss_of_smell_last_week|went_to_healthcare_facility|was_hospitalized|used_ventilator|has_health_insurance|worked_last_week|   main_job_activity|how_many_employees|income_range|has_worked_remote|coronavirus_related_aid|\n",
            "+----------+----+-----+--------------+---+---+-------------------+-------------------+-------------------------+-------------------------------+----------------------+------------------------+----------------------+---------------------------+---------------------------+----------------+---------------+--------------------+----------------+--------------------+------------------+------------+-----------------+-----------------------+\n",
            "|        RO|2020|    9|             1| 36|  1|                 no|                 no|                       no|                             no|                    no|                      no|                    no|                         no|                       NULL|            NULL|           NULL|                 yes|             yes|wholesale_and_ret...|              NULL|           4|             NULL|                    yes|\n",
            "|        RO|2020|    9|             1| 30|  2|                 no|                 no|                       no|                             no|                    no|                      no|                    no|                         no|                       NULL|            NULL|           NULL|                  no|             yes|human_health_and_...|              NULL|           4|             NULL|                    yes|\n",
            "|        RO|2020|    9|             1| 13|  1|                 no|                 no|                       no|                             no|                    no|                      no|                    no|                         no|                       NULL|            NULL|           NULL|                 yes|            NULL|                NULL|              NULL|        NULL|             NULL|                    yes|\n",
            "|        RO|2020|    9|             1| 11|  1|                 no|                 no|                       no|                             no|                    no|                      no|                    no|                         no|                       NULL|            NULL|           NULL|                 yes|            NULL|                NULL|              NULL|        NULL|             NULL|                    yes|\n",
            "|        RO|2020|    9|             1| 57|  2|                 no|                 no|                       no|                             no|                    no|                      no|                    no|                         no|                       NULL|            NULL|           NULL|                  no|              no|                NULL|              NULL|        NULL|             NULL|                     no|\n",
            "|        RO|2020|    9|             1| 58|  2|                 no|                 no|                       no|                             no|                    no|                      no|                    no|                         no|                       NULL|            NULL|           NULL|                  no|             yes|               other|              NULL|           0|             NULL|                     no|\n",
            "|        RO|2020|    9|             1| 47|  1|                 no|                 no|                       no|                             no|                    no|                      no|                    no|                         no|                       NULL|            NULL|           NULL|                  no|             yes|        construction|              NULL|           4|             NULL|                    yes|\n",
            "|        RO|2020|    9|             1| 18|  2|                 no|                 no|                       no|                             no|                    no|                      no|                    no|                         no|                       NULL|            NULL|           NULL|                  no|              no|                NULL|              NULL|        NULL|             NULL|                    yes|\n",
            "|        RO|2020|    9|             1| 11|  1|                 no|                 no|                       no|                             no|                    no|                      no|                    no|                         no|                       NULL|            NULL|           NULL|                  no|            NULL|                NULL|              NULL|        NULL|             NULL|                    yes|\n",
            "|        RO|2020|    9|             1|  9|  2|                 no|                 no|                       no|                             no|                    no|                      no|                    no|                         no|                       NULL|            NULL|           NULL|                  no|            NULL|                NULL|              NULL|        NULL|             NULL|                    yes|\n",
            "|        RO|2020|    9|             1| 10|  1|                 no|                 no|                       no|                             no|                    no|                      no|                    no|                         no|                       NULL|            NULL|           NULL|                  no|            NULL|                NULL|              NULL|        NULL|             NULL|                    yes|\n",
            "|        RO|2020|    9|             1| 26|  1|                 no|                 no|                       no|                             no|                    no|                      no|                    no|                         no|                       NULL|            NULL|           NULL|                  no|             yes|agriculture_lives...|              NULL|           4|             NULL|                    yes|\n",
            "|        RO|2020|    9|             1| 14|  1|                 no|                 no|                       no|                             no|                    no|                      no|                    no|                         no|                       NULL|            NULL|           NULL|                  no|              no|                NULL|              NULL|        NULL|             NULL|                    yes|\n",
            "|        RO|2020|    9|             1| 15|  2|                 no|                 no|                       no|                             no|                    no|                      no|                    no|                         no|                       NULL|            NULL|           NULL|                  no|              no|                NULL|              NULL|        NULL|             NULL|                    yes|\n",
            "|        RO|2020|    9|             1| 33|  2|                 no|                 no|                       no|                             no|                    no|                      no|                    no|                         no|                       NULL|            NULL|           NULL|                  no|              no|                NULL|              NULL|        NULL|             NULL|                    yes|\n",
            "|        RO|2020|    9|             1| 62|  1|                 no|                 no|                       no|                             no|                    no|                      no|                    no|                         no|                       NULL|            NULL|           NULL|                  no|             yes|repair_of_motor_v...|              NULL|           4|             NULL|                    yes|\n",
            "|        RO|2020|    9|             1| 62|  2|                 no|                 no|                       no|                             no|                    no|                      no|                    no|                         no|                       NULL|            NULL|           NULL|                  no|              no|                NULL|              NULL|        NULL|             NULL|                    yes|\n",
            "|        RO|2020|    9|             1| 56|  2|                 no|                 no|                       no|                             no|                    no|                      no|                    no|                         no|                       NULL|            NULL|           NULL|                  no|              no|                NULL|              NULL|        NULL|             NULL|                    yes|\n",
            "|        RO|2020|    9|             1| 53|  1|                 no|                 no|                       no|                             no|                    no|                      no|                    no|                         no|                       NULL|            NULL|           NULL|                  no|             yes|        construction|              NULL|           4|             NULL|                    yes|\n",
            "|        RO|2020|    9|             1| 17|  2|                 no|                 no|                       no|                             no|                    no|                      no|                    no|                         no|                       NULL|            NULL|           NULL|                  no|              no|                NULL|              NULL|        NULL|             NULL|                    yes|\n",
            "+----------+----+-----+--------------+---+---+-------------------+-------------------+-------------------------+-------------------------------+----------------------+------------------------+----------------------+---------------------------+---------------------------+----------------+---------------+--------------------+----------------+--------------------+------------------+------------+-----------------+-----------------------+\n",
            "only showing top 20 rows\n",
            "\n"
          ]
        }
      ]
    },
    {
      "cell_type": "code",
      "source": [
        "def translate_and_cast_income(value):\n",
        "    return income_range.get(value, None)\n",
        "\n",
        "translate_udf = udf(translate_and_cast_income, StringType())\n",
        "\n",
        "# Apply the UDF to the selected columns\n",
        "\n",
        "df = df.withColumn('income_range', translate_udf(col('income_range')))"
      ],
      "metadata": {
        "id": "6Dw_Bp0oEyoP"
      },
      "execution_count": 53,
      "outputs": []
    },
    {
      "cell_type": "code",
      "source": [
        "df = df.withColumn(\"sex\", F.expr(\"CASE WHEN sex == 1 THEN 'male' ELSE 'female' END\"))\n",
        "df = df.withColumn(\"housing_status\", F.expr(\"CASE WHEN housing_status == 1 THEN 'urban' ELSE 'rural' END\"))"
      ],
      "metadata": {
        "id": "ifsDQy-pJINy"
      },
      "execution_count": 54,
      "outputs": []
    },
    {
      "cell_type": "code",
      "source": [
        "df.show()"
      ],
      "metadata": {
        "id": "pGk5WD6PFeWx",
        "colab": {
          "base_uri": "https://localhost:8080/"
        },
        "outputId": "3539dd3b-7cf6-4e15-9ca2-a74c96a241a2"
      },
      "execution_count": 55,
      "outputs": [
        {
          "output_type": "stream",
          "name": "stdout",
          "text": [
            "+----------+----+-----+--------------+---+------+-------------------+-------------------+-------------------------+-------------------------------+----------------------+------------------------+----------------------+---------------------------+---------------------------+----------------+---------------+--------------------+----------------+--------------------+------------------+--------------+-----------------+-----------------------+\n",
            "|state_code|year|month|housing_status|age|   sex|had_fever_last_week|had_cough_last_week|had_sore_throat_last_week|had_trouble_breathing_last_week|had_headache_last_week|had_runny_nose_last_week|had_lethargy_last_week|had_loss_of_smell_last_week|went_to_healthcare_facility|was_hospitalized|used_ventilator|has_health_insurance|worked_last_week|   main_job_activity|how_many_employees|  income_range|has_worked_remote|coronavirus_related_aid|\n",
            "+----------+----+-----+--------------+---+------+-------------------+-------------------+-------------------------+-------------------------------+----------------------+------------------------+----------------------+---------------------------+---------------------------+----------------+---------------+--------------------+----------------+--------------------+------------------+--------------+-----------------+-----------------------+\n",
            "|        RO|2020|    9|         urban| 36|  male|                 no|                 no|                       no|                             no|                    no|                      no|                    no|                         no|                       NULL|            NULL|           NULL|                 yes|             yes|wholesale_and_ret...|              NULL|     801-1,600|             NULL|                    yes|\n",
            "|        RO|2020|    9|         urban| 30|female|                 no|                 no|                       no|                             no|                    no|                      no|                    no|                         no|                       NULL|            NULL|           NULL|                  no|             yes|human_health_and_...|              NULL|     801-1,600|             NULL|                    yes|\n",
            "|        RO|2020|    9|         urban| 13|  male|                 no|                 no|                       no|                             no|                    no|                      no|                    no|                         no|                       NULL|            NULL|           NULL|                 yes|            NULL|                NULL|              NULL|          NULL|             NULL|                    yes|\n",
            "|        RO|2020|    9|         urban| 11|  male|                 no|                 no|                       no|                             no|                    no|                      no|                    no|                         no|                       NULL|            NULL|           NULL|                 yes|            NULL|                NULL|              NULL|          NULL|             NULL|                    yes|\n",
            "|        RO|2020|    9|         urban| 57|female|                 no|                 no|                       no|                             no|                    no|                      no|                    no|                         no|                       NULL|            NULL|           NULL|                  no|              no|                NULL|              NULL|          NULL|             NULL|                     no|\n",
            "|        RO|2020|    9|         urban| 58|female|                 no|                 no|                       no|                             no|                    no|                      no|                    no|                         no|                       NULL|            NULL|           NULL|                  no|             yes|               other|              NULL|not_applicable|             NULL|                     no|\n",
            "|        RO|2020|    9|         urban| 47|  male|                 no|                 no|                       no|                             no|                    no|                      no|                    no|                         no|                       NULL|            NULL|           NULL|                  no|             yes|        construction|              NULL|     801-1,600|             NULL|                    yes|\n",
            "|        RO|2020|    9|         urban| 18|female|                 no|                 no|                       no|                             no|                    no|                      no|                    no|                         no|                       NULL|            NULL|           NULL|                  no|              no|                NULL|              NULL|          NULL|             NULL|                    yes|\n",
            "|        RO|2020|    9|         urban| 11|  male|                 no|                 no|                       no|                             no|                    no|                      no|                    no|                         no|                       NULL|            NULL|           NULL|                  no|            NULL|                NULL|              NULL|          NULL|             NULL|                    yes|\n",
            "|        RO|2020|    9|         urban|  9|female|                 no|                 no|                       no|                             no|                    no|                      no|                    no|                         no|                       NULL|            NULL|           NULL|                  no|            NULL|                NULL|              NULL|          NULL|             NULL|                    yes|\n",
            "|        RO|2020|    9|         urban| 10|  male|                 no|                 no|                       no|                             no|                    no|                      no|                    no|                         no|                       NULL|            NULL|           NULL|                  no|            NULL|                NULL|              NULL|          NULL|             NULL|                    yes|\n",
            "|        RO|2020|    9|         urban| 26|  male|                 no|                 no|                       no|                             no|                    no|                      no|                    no|                         no|                       NULL|            NULL|           NULL|                  no|             yes|agriculture_lives...|              NULL|     801-1,600|             NULL|                    yes|\n",
            "|        RO|2020|    9|         urban| 14|  male|                 no|                 no|                       no|                             no|                    no|                      no|                    no|                         no|                       NULL|            NULL|           NULL|                  no|              no|                NULL|              NULL|          NULL|             NULL|                    yes|\n",
            "|        RO|2020|    9|         urban| 15|female|                 no|                 no|                       no|                             no|                    no|                      no|                    no|                         no|                       NULL|            NULL|           NULL|                  no|              no|                NULL|              NULL|          NULL|             NULL|                    yes|\n",
            "|        RO|2020|    9|         urban| 33|female|                 no|                 no|                       no|                             no|                    no|                      no|                    no|                         no|                       NULL|            NULL|           NULL|                  no|              no|                NULL|              NULL|          NULL|             NULL|                    yes|\n",
            "|        RO|2020|    9|         urban| 62|  male|                 no|                 no|                       no|                             no|                    no|                      no|                    no|                         no|                       NULL|            NULL|           NULL|                  no|             yes|repair_of_motor_v...|              NULL|     801-1,600|             NULL|                    yes|\n",
            "|        RO|2020|    9|         urban| 62|female|                 no|                 no|                       no|                             no|                    no|                      no|                    no|                         no|                       NULL|            NULL|           NULL|                  no|              no|                NULL|              NULL|          NULL|             NULL|                    yes|\n",
            "|        RO|2020|    9|         urban| 56|female|                 no|                 no|                       no|                             no|                    no|                      no|                    no|                         no|                       NULL|            NULL|           NULL|                  no|              no|                NULL|              NULL|          NULL|             NULL|                    yes|\n",
            "|        RO|2020|    9|         urban| 53|  male|                 no|                 no|                       no|                             no|                    no|                      no|                    no|                         no|                       NULL|            NULL|           NULL|                  no|             yes|        construction|              NULL|     801-1,600|             NULL|                    yes|\n",
            "|        RO|2020|    9|         urban| 17|female|                 no|                 no|                       no|                             no|                    no|                      no|                    no|                         no|                       NULL|            NULL|           NULL|                  no|              no|                NULL|              NULL|          NULL|             NULL|                    yes|\n",
            "+----------+----+-----+--------------+---+------+-------------------+-------------------+-------------------------+-------------------------------+----------------------+------------------------+----------------------+---------------------------+---------------------------+----------------+---------------+--------------------+----------------+--------------------+------------------+--------------+-----------------+-----------------------+\n",
            "only showing top 20 rows\n",
            "\n"
          ]
        }
      ]
    },
    {
      "cell_type": "code",
      "source": [
        "df.count()"
      ],
      "metadata": {
        "id": "Z8k3siOXPl2L"
      },
      "execution_count": null,
      "outputs": []
    },
    {
      "cell_type": "markdown",
      "source": [
        "3.1 | Número de sintomas (1 ou mais sintomas, até 5 no máximo)"
      ],
      "metadata": {
        "id": "Dy_TMyAgOJFn"
      }
    },
    {
      "cell_type": "code",
      "source": [
        "# creating has_covid column based on the symptoms column\n",
        "\n",
        "symptom_col = ['had_fever_last_week','had_cough_last_week',\n",
        "                 'had_sore_throat_last_week','had_headache_last_week','had_runny_nose_last_week',\n",
        "                 'had_lethargy_last_week','had_loss_of_smell_last_week']\n",
        "\n",
        "## if a row has a count of symptoms equal or greater than 1, we identify this research as positive for Covid\n",
        "yes_count = sum(when(col(c) == \"yes\", 1).otherwise(0) for c in symptom_col)"
      ],
      "metadata": {
        "id": "4A4ddD2mMfVa"
      },
      "execution_count": 90,
      "outputs": []
    },
    {
      "cell_type": "code",
      "source": [
        "# Use withColumn to create the has_covid column\n",
        "df = df.withColumn(\"has_covid\", yes_count >= 1)\n"
      ],
      "metadata": {
        "id": "qtwe-IAbOXdX"
      },
      "execution_count": 91,
      "outputs": []
    },
    {
      "cell_type": "code",
      "source": [
        "probably_covid = df.filter(df.has_covid==True)"
      ],
      "metadata": {
        "id": "ZfvSyRX6P5L8"
      },
      "execution_count": 92,
      "outputs": []
    },
    {
      "cell_type": "code",
      "source": [
        "not_probably_covid = df.filter(df.has_covid==False)"
      ],
      "metadata": {
        "id": "Zr_NNx5xXlUq"
      },
      "execution_count": 105,
      "outputs": []
    },
    {
      "cell_type": "code",
      "source": [
        "not_probably_covid.show()"
      ],
      "metadata": {
        "id": "fuUumP_fXpOG",
        "outputId": "6720c7fc-1e7f-49d3-9d7e-e3de927c6b95",
        "colab": {
          "base_uri": "https://localhost:8080/"
        }
      },
      "execution_count": 106,
      "outputs": [
        {
          "output_type": "stream",
          "name": "stdout",
          "text": [
            "+----------+----+-----+--------------+---+------+-------------------+-------------------+-------------------------+-------------------------------+----------------------+------------------------+----------------------+---------------------------+---------------------------+----------------+---------------+--------------------+----------------+--------------------+------------------+--------------+-----------------+-----------------------+---------+\n",
            "|state_code|year|month|housing_status|age|   sex|had_fever_last_week|had_cough_last_week|had_sore_throat_last_week|had_trouble_breathing_last_week|had_headache_last_week|had_runny_nose_last_week|had_lethargy_last_week|had_loss_of_smell_last_week|went_to_healthcare_facility|was_hospitalized|used_ventilator|has_health_insurance|worked_last_week|   main_job_activity|how_many_employees|  income_range|has_worked_remote|coronavirus_related_aid|has_covid|\n",
            "+----------+----+-----+--------------+---+------+-------------------+-------------------+-------------------------+-------------------------------+----------------------+------------------------+----------------------+---------------------------+---------------------------+----------------+---------------+--------------------+----------------+--------------------+------------------+--------------+-----------------+-----------------------+---------+\n",
            "|        RO|2020|    9|         urban| 36|  male|                 no|                 no|                       no|                             no|                    no|                      no|                    no|                         no|                       NULL|            NULL|           NULL|                 yes|             yes|wholesale_and_ret...|              NULL|     801-1,600|             NULL|                    yes|    false|\n",
            "|        RO|2020|    9|         urban| 30|female|                 no|                 no|                       no|                             no|                    no|                      no|                    no|                         no|                       NULL|            NULL|           NULL|                  no|             yes|human_health_and_...|              NULL|     801-1,600|             NULL|                    yes|    false|\n",
            "|        RO|2020|    9|         urban| 13|  male|                 no|                 no|                       no|                             no|                    no|                      no|                    no|                         no|                       NULL|            NULL|           NULL|                 yes|            NULL|                NULL|              NULL|          NULL|             NULL|                    yes|    false|\n",
            "|        RO|2020|    9|         urban| 11|  male|                 no|                 no|                       no|                             no|                    no|                      no|                    no|                         no|                       NULL|            NULL|           NULL|                 yes|            NULL|                NULL|              NULL|          NULL|             NULL|                    yes|    false|\n",
            "|        RO|2020|    9|         urban| 57|female|                 no|                 no|                       no|                             no|                    no|                      no|                    no|                         no|                       NULL|            NULL|           NULL|                  no|              no|                NULL|              NULL|          NULL|             NULL|                     no|    false|\n",
            "|        RO|2020|    9|         urban| 58|female|                 no|                 no|                       no|                             no|                    no|                      no|                    no|                         no|                       NULL|            NULL|           NULL|                  no|             yes|               other|              NULL|not_applicable|             NULL|                     no|    false|\n",
            "|        RO|2020|    9|         urban| 47|  male|                 no|                 no|                       no|                             no|                    no|                      no|                    no|                         no|                       NULL|            NULL|           NULL|                  no|             yes|        construction|              NULL|     801-1,600|             NULL|                    yes|    false|\n",
            "|        RO|2020|    9|         urban| 18|female|                 no|                 no|                       no|                             no|                    no|                      no|                    no|                         no|                       NULL|            NULL|           NULL|                  no|              no|                NULL|              NULL|          NULL|             NULL|                    yes|    false|\n",
            "|        RO|2020|    9|         urban| 11|  male|                 no|                 no|                       no|                             no|                    no|                      no|                    no|                         no|                       NULL|            NULL|           NULL|                  no|            NULL|                NULL|              NULL|          NULL|             NULL|                    yes|    false|\n",
            "|        RO|2020|    9|         urban|  9|female|                 no|                 no|                       no|                             no|                    no|                      no|                    no|                         no|                       NULL|            NULL|           NULL|                  no|            NULL|                NULL|              NULL|          NULL|             NULL|                    yes|    false|\n",
            "|        RO|2020|    9|         urban| 10|  male|                 no|                 no|                       no|                             no|                    no|                      no|                    no|                         no|                       NULL|            NULL|           NULL|                  no|            NULL|                NULL|              NULL|          NULL|             NULL|                    yes|    false|\n",
            "|        RO|2020|    9|         urban| 26|  male|                 no|                 no|                       no|                             no|                    no|                      no|                    no|                         no|                       NULL|            NULL|           NULL|                  no|             yes|agriculture_lives...|              NULL|     801-1,600|             NULL|                    yes|    false|\n",
            "|        RO|2020|    9|         urban| 14|  male|                 no|                 no|                       no|                             no|                    no|                      no|                    no|                         no|                       NULL|            NULL|           NULL|                  no|              no|                NULL|              NULL|          NULL|             NULL|                    yes|    false|\n",
            "|        RO|2020|    9|         urban| 15|female|                 no|                 no|                       no|                             no|                    no|                      no|                    no|                         no|                       NULL|            NULL|           NULL|                  no|              no|                NULL|              NULL|          NULL|             NULL|                    yes|    false|\n",
            "|        RO|2020|    9|         urban| 33|female|                 no|                 no|                       no|                             no|                    no|                      no|                    no|                         no|                       NULL|            NULL|           NULL|                  no|              no|                NULL|              NULL|          NULL|             NULL|                    yes|    false|\n",
            "|        RO|2020|    9|         urban| 62|  male|                 no|                 no|                       no|                             no|                    no|                      no|                    no|                         no|                       NULL|            NULL|           NULL|                  no|             yes|repair_of_motor_v...|              NULL|     801-1,600|             NULL|                    yes|    false|\n",
            "|        RO|2020|    9|         urban| 62|female|                 no|                 no|                       no|                             no|                    no|                      no|                    no|                         no|                       NULL|            NULL|           NULL|                  no|              no|                NULL|              NULL|          NULL|             NULL|                    yes|    false|\n",
            "|        RO|2020|    9|         urban| 56|female|                 no|                 no|                       no|                             no|                    no|                      no|                    no|                         no|                       NULL|            NULL|           NULL|                  no|              no|                NULL|              NULL|          NULL|             NULL|                    yes|    false|\n",
            "|        RO|2020|    9|         urban| 53|  male|                 no|                 no|                       no|                             no|                    no|                      no|                    no|                         no|                       NULL|            NULL|           NULL|                  no|             yes|        construction|              NULL|     801-1,600|             NULL|                    yes|    false|\n",
            "|        RO|2020|    9|         urban| 17|female|                 no|                 no|                       no|                             no|                    no|                      no|                    no|                         no|                       NULL|            NULL|           NULL|                  no|              no|                NULL|              NULL|          NULL|             NULL|                    yes|    false|\n",
            "+----------+----+-----+--------------+---+------+-------------------+-------------------+-------------------------+-------------------------------+----------------------+------------------------+----------------------+---------------------------+---------------------------+----------------+---------------+--------------------+----------------+--------------------+------------------+--------------+-----------------+-----------------------+---------+\n",
            "only showing top 20 rows\n",
            "\n"
          ]
        }
      ]
    },
    {
      "cell_type": "code",
      "source": [
        "probably_covid.show()"
      ],
      "metadata": {
        "id": "9OkyKEptOa7t",
        "outputId": "cd6a2d51-e055-4ac2-90c4-825f3c34bebb",
        "colab": {
          "base_uri": "https://localhost:8080/"
        }
      },
      "execution_count": 93,
      "outputs": [
        {
          "output_type": "stream",
          "name": "stdout",
          "text": [
            "+----------+----+-----+--------------+---+------+-------------------+-------------------+-------------------------+-------------------------------+----------------------+------------------------+----------------------+---------------------------+---------------------------+----------------+---------------+--------------------+----------------+--------------------+------------------+------------+-----------------+-----------------------+---------+\n",
            "|state_code|year|month|housing_status|age|   sex|had_fever_last_week|had_cough_last_week|had_sore_throat_last_week|had_trouble_breathing_last_week|had_headache_last_week|had_runny_nose_last_week|had_lethargy_last_week|had_loss_of_smell_last_week|went_to_healthcare_facility|was_hospitalized|used_ventilator|has_health_insurance|worked_last_week|   main_job_activity|how_many_employees|income_range|has_worked_remote|coronavirus_related_aid|has_covid|\n",
            "+----------+----+-----+--------------+---+------+-------------------+-------------------+-------------------------+-------------------------------+----------------------+------------------------+----------------------+---------------------------+---------------------------+----------------+---------------+--------------------+----------------+--------------------+------------------+------------+-----------------+-----------------------+---------+\n",
            "|        RO|2020|    9|         urban|  8|  male|                yes|                yes|                      yes|                            yes|                   yes|                     yes|                   yes|                         no|                         no|            NULL|           NULL|                  no|            NULL|                NULL|              NULL|        NULL|             NULL|                     no|     true|\n",
            "|        RO|2020|    9|         urban| 25|  male|                 no|                yes|                       no|                             no|                    no|                      no|                    no|                         no|                         no|            NULL|           NULL|                  no|             yes|food_service_bars...|              NULL|     601-800|             NULL|                    yes|     true|\n",
            "|        RO|2020|    9|         urban| 21|female|                 no|                yes|                       no|                             no|                    no|                      no|                    no|                         no|                         no|            NULL|           NULL|                  no|              no|                NULL|              NULL|        NULL|             NULL|                    yes|     true|\n",
            "|        RO|2020|    9|         urban| 31|female|                yes|                 no|                      yes|                             no|                    no|                      no|                    no|                         no|                        yes|              no|           NULL|                  no|              no|                NULL|              NULL|        NULL|             NULL|                    yes|     true|\n",
            "|        RO|2020|    9|         urban| 87|female|                 no|                yes|                       no|                            yes|                    no|                     yes|                   yes|                         no|                        yes|            NULL|           NULL|                 yes|              no|                NULL|              NULL|        NULL|             NULL|                     no|     true|\n",
            "|        RO|2020|    9|         urban| 39|female|                yes|                yes|                      yes|                            yes|                   yes|                     yes|                   yes|                         no|                         no|            NULL|           NULL|                 yes|             yes|               other|              NULL|   801-1,600|             NULL|                     no|     true|\n",
            "|        RO|2020|    9|         urban| 38|  male|                 no|                yes|                      yes|                            yes|                   yes|                     yes|                   yes|                         no|                        yes|              no|           NULL|                  no|             yes|               other|              NULL|   801-1,600|             NULL|                     no|     true|\n",
            "|        RO|2020|    9|         urban| 64|female|                 no|                 no|                      yes|                             no|                   yes|                      no|                    no|                         no|                         no|            NULL|           NULL|                  no|              no|public_administra...|              NULL| 1,601-3,000|             NULL|                    yes|     true|\n",
            "|        RO|2020|    9|         urban| 18|female|                yes|                yes|                      yes|                            yes|                   yes|                     yes|                   yes|                        yes|                         no|            NULL|           NULL|                  no|              no|                NULL|              NULL|        NULL|             NULL|                    yes|     true|\n",
            "|        RO|2020|    9|         urban| 62|female|                yes|                yes|                      yes|                            yes|                   yes|                     yes|                   yes|                        yes|                        yes|              no|           NULL|                 yes|              no|public_administra...|              NULL|3,001-10,000|             NULL|                    yes|     true|\n",
            "|        RO|2020|    9|         urban| 36|female|                yes|                yes|                      yes|                            yes|                   yes|                     yes|                   yes|                        yes|                        yes|              no|           NULL|                 yes|             yes|                NULL|              NULL|3,001-10,000|             NULL|                    yes|     true|\n",
            "|        RO|2020|    9|         urban| 56|female|                 no|                 no|                       no|                             no|                   yes|                      no|                   yes|                         no|                         no|            NULL|           NULL|                  no|              no|                NULL|              NULL|        NULL|             NULL|                    yes|     true|\n",
            "|        RO|2020|    9|         urban| 17|  male|                 no|                yes|                      yes|                             no|                    no|                     yes|                    no|                         no|                         no|            NULL|           NULL|                  no|             yes|food_service_bars...|              NULL|     301-600|             NULL|                     no|     true|\n",
            "|        RO|2020|    9|         urban| 65|  male|                 no|                 no|                       no|                             no|                    no|                     yes|                    no|                         no|                         no|            NULL|           NULL|                  no|              no|                NULL|              NULL|        NULL|             NULL|                     no|     true|\n",
            "|        RO|2020|    9|         urban| 40|female|                 no|                yes|                      yes|                             no|                    no|                      no|                    no|                         no|                         no|            NULL|           NULL|                  no|             yes| passenger_transport|              NULL|   801-1,600|             NULL|                     no|     true|\n",
            "|        RO|2020|    9|         urban| 38|female|                 no|                yes|                       no|                             no|                   yes|                      no|                    no|                         no|                         no|            NULL|           NULL|                  no|             yes|hairdressing_beau...|              NULL|   801-1,600|             NULL|                    yes|     true|\n",
            "|        RO|2020|    9|         urban| 24|  male|                yes|                 no|                       no|                            yes|                    no|                      no|                    no|                         no|                        yes|            NULL|           NULL|                  no|             yes|wholesale_and_ret...|              NULL|   801-1,600|             NULL|                     no|     true|\n",
            "|        RO|2020|    9|         urban| 67|female|                 no|                 no|                       no|                             no|                   yes|                      no|                    no|                         no|                         no|            NULL|           NULL|                  no|              no|                NULL|              NULL|        NULL|             NULL|                    yes|     true|\n",
            "|        RO|2020|    9|         urban| 40|female|                 no|                 no|                       no|                             no|                    no|                      no|                    no|                        yes|                        yes|            NULL|           NULL|                  no|             yes|paid_domestic_ser...|              NULL|   801-1,600|             NULL|                     no|     true|\n",
            "|        RO|2020|    9|         urban| 63|female|                yes|                 no|                       no|                             no|                   yes|                      no|                    no|                         no|                         no|            NULL|           NULL|                  no|              no|                NULL|              NULL|        NULL|             NULL|                    yes|     true|\n",
            "+----------+----+-----+--------------+---+------+-------------------+-------------------+-------------------------+-------------------------------+----------------------+------------------------+----------------------+---------------------------+---------------------------+----------------+---------------+--------------------+----------------+--------------------+------------------+------------+-----------------+-----------------------+---------+\n",
            "only showing top 20 rows\n",
            "\n"
          ]
        }
      ]
    },
    {
      "cell_type": "markdown",
      "source": [
        "3.2.1 | Teve sintoma -> idade da pessoa? (0->21, 21->60, 60->mais)\n"
      ],
      "metadata": {
        "id": "58FhkXQ6ajDd"
      }
    },
    {
      "cell_type": "code",
      "source": [
        "probably_covid = probably_covid.withColumn(\"covid_per_age\", when(probably_covid[\"age\"] < 21, \"young\")\n",
        "                                  .when((probably_covid[\"age\"] >= 21) & (probably_covid[\"age\"] <= 60), \"adult\")\n",
        "                                  .when(probably_covid[\"age\"] > 60, \"elderly\")\n",
        "                                  .otherwise(\"other\"))"
      ],
      "metadata": {
        "id": "QAPKqWWmRWWJ"
      },
      "execution_count": 94,
      "outputs": []
    },
    {
      "cell_type": "code",
      "source": [
        "probably_covid.show()"
      ],
      "metadata": {
        "id": "K0nv71ARW7-1",
        "colab": {
          "base_uri": "https://localhost:8080/"
        },
        "outputId": "31ef812b-18e0-448e-93c9-03b6cef9429f"
      },
      "execution_count": 95,
      "outputs": [
        {
          "output_type": "stream",
          "name": "stdout",
          "text": [
            "+----------+----+-----+--------------+---+------+-------------------+-------------------+-------------------------+-------------------------------+----------------------+------------------------+----------------------+---------------------------+---------------------------+----------------+---------------+--------------------+----------------+--------------------+------------------+------------+-----------------+-----------------------+---------+-------------+\n",
            "|state_code|year|month|housing_status|age|   sex|had_fever_last_week|had_cough_last_week|had_sore_throat_last_week|had_trouble_breathing_last_week|had_headache_last_week|had_runny_nose_last_week|had_lethargy_last_week|had_loss_of_smell_last_week|went_to_healthcare_facility|was_hospitalized|used_ventilator|has_health_insurance|worked_last_week|   main_job_activity|how_many_employees|income_range|has_worked_remote|coronavirus_related_aid|has_covid|covid_per_age|\n",
            "+----------+----+-----+--------------+---+------+-------------------+-------------------+-------------------------+-------------------------------+----------------------+------------------------+----------------------+---------------------------+---------------------------+----------------+---------------+--------------------+----------------+--------------------+------------------+------------+-----------------+-----------------------+---------+-------------+\n",
            "|        RO|2020|    9|         urban|  8|  male|                yes|                yes|                      yes|                            yes|                   yes|                     yes|                   yes|                         no|                         no|            NULL|           NULL|                  no|            NULL|                NULL|              NULL|        NULL|             NULL|                     no|     true|        young|\n",
            "|        RO|2020|    9|         urban| 25|  male|                 no|                yes|                       no|                             no|                    no|                      no|                    no|                         no|                         no|            NULL|           NULL|                  no|             yes|food_service_bars...|              NULL|     601-800|             NULL|                    yes|     true|        adult|\n",
            "|        RO|2020|    9|         urban| 21|female|                 no|                yes|                       no|                             no|                    no|                      no|                    no|                         no|                         no|            NULL|           NULL|                  no|              no|                NULL|              NULL|        NULL|             NULL|                    yes|     true|        adult|\n",
            "|        RO|2020|    9|         urban| 31|female|                yes|                 no|                      yes|                             no|                    no|                      no|                    no|                         no|                        yes|              no|           NULL|                  no|              no|                NULL|              NULL|        NULL|             NULL|                    yes|     true|        adult|\n",
            "|        RO|2020|    9|         urban| 87|female|                 no|                yes|                       no|                            yes|                    no|                     yes|                   yes|                         no|                        yes|            NULL|           NULL|                 yes|              no|                NULL|              NULL|        NULL|             NULL|                     no|     true|      elderly|\n",
            "|        RO|2020|    9|         urban| 39|female|                yes|                yes|                      yes|                            yes|                   yes|                     yes|                   yes|                         no|                         no|            NULL|           NULL|                 yes|             yes|               other|              NULL|   801-1,600|             NULL|                     no|     true|        adult|\n",
            "|        RO|2020|    9|         urban| 38|  male|                 no|                yes|                      yes|                            yes|                   yes|                     yes|                   yes|                         no|                        yes|              no|           NULL|                  no|             yes|               other|              NULL|   801-1,600|             NULL|                     no|     true|        adult|\n",
            "|        RO|2020|    9|         urban| 64|female|                 no|                 no|                      yes|                             no|                   yes|                      no|                    no|                         no|                         no|            NULL|           NULL|                  no|              no|public_administra...|              NULL| 1,601-3,000|             NULL|                    yes|     true|      elderly|\n",
            "|        RO|2020|    9|         urban| 18|female|                yes|                yes|                      yes|                            yes|                   yes|                     yes|                   yes|                        yes|                         no|            NULL|           NULL|                  no|              no|                NULL|              NULL|        NULL|             NULL|                    yes|     true|        young|\n",
            "|        RO|2020|    9|         urban| 62|female|                yes|                yes|                      yes|                            yes|                   yes|                     yes|                   yes|                        yes|                        yes|              no|           NULL|                 yes|              no|public_administra...|              NULL|3,001-10,000|             NULL|                    yes|     true|      elderly|\n",
            "|        RO|2020|    9|         urban| 36|female|                yes|                yes|                      yes|                            yes|                   yes|                     yes|                   yes|                        yes|                        yes|              no|           NULL|                 yes|             yes|                NULL|              NULL|3,001-10,000|             NULL|                    yes|     true|        adult|\n",
            "|        RO|2020|    9|         urban| 56|female|                 no|                 no|                       no|                             no|                   yes|                      no|                   yes|                         no|                         no|            NULL|           NULL|                  no|              no|                NULL|              NULL|        NULL|             NULL|                    yes|     true|        adult|\n",
            "|        RO|2020|    9|         urban| 17|  male|                 no|                yes|                      yes|                             no|                    no|                     yes|                    no|                         no|                         no|            NULL|           NULL|                  no|             yes|food_service_bars...|              NULL|     301-600|             NULL|                     no|     true|        young|\n",
            "|        RO|2020|    9|         urban| 65|  male|                 no|                 no|                       no|                             no|                    no|                     yes|                    no|                         no|                         no|            NULL|           NULL|                  no|              no|                NULL|              NULL|        NULL|             NULL|                     no|     true|      elderly|\n",
            "|        RO|2020|    9|         urban| 40|female|                 no|                yes|                      yes|                             no|                    no|                      no|                    no|                         no|                         no|            NULL|           NULL|                  no|             yes| passenger_transport|              NULL|   801-1,600|             NULL|                     no|     true|        adult|\n",
            "|        RO|2020|    9|         urban| 38|female|                 no|                yes|                       no|                             no|                   yes|                      no|                    no|                         no|                         no|            NULL|           NULL|                  no|             yes|hairdressing_beau...|              NULL|   801-1,600|             NULL|                    yes|     true|        adult|\n",
            "|        RO|2020|    9|         urban| 24|  male|                yes|                 no|                       no|                            yes|                    no|                      no|                    no|                         no|                        yes|            NULL|           NULL|                  no|             yes|wholesale_and_ret...|              NULL|   801-1,600|             NULL|                     no|     true|        adult|\n",
            "|        RO|2020|    9|         urban| 67|female|                 no|                 no|                       no|                             no|                   yes|                      no|                    no|                         no|                         no|            NULL|           NULL|                  no|              no|                NULL|              NULL|        NULL|             NULL|                    yes|     true|      elderly|\n",
            "|        RO|2020|    9|         urban| 40|female|                 no|                 no|                       no|                             no|                    no|                      no|                    no|                        yes|                        yes|            NULL|           NULL|                  no|             yes|paid_domestic_ser...|              NULL|   801-1,600|             NULL|                     no|     true|        adult|\n",
            "|        RO|2020|    9|         urban| 63|female|                yes|                 no|                       no|                             no|                   yes|                      no|                    no|                         no|                         no|            NULL|           NULL|                  no|              no|                NULL|              NULL|        NULL|             NULL|                    yes|     true|      elderly|\n",
            "+----------+----+-----+--------------+---+------+-------------------+-------------------+-------------------------+-------------------------------+----------------------+------------------------+----------------------+---------------------------+---------------------------+----------------+---------------+--------------------+----------------+--------------------+------------------+------------+-----------------+-----------------------+---------+-------------+\n",
            "only showing top 20 rows\n",
            "\n"
          ]
        }
      ]
    },
    {
      "cell_type": "code",
      "source": [
        "probably_covid.printSchema()"
      ],
      "metadata": {
        "id": "LOru2fVDVlTD",
        "outputId": "a4244d08-9e59-4e39-de7c-a31f36f9bf7c",
        "colab": {
          "base_uri": "https://localhost:8080/"
        }
      },
      "execution_count": 96,
      "outputs": [
        {
          "output_type": "stream",
          "name": "stdout",
          "text": [
            "root\n",
            " |-- state_code: string (nullable = true)\n",
            " |-- year: integer (nullable = true)\n",
            " |-- month: integer (nullable = true)\n",
            " |-- housing_status: string (nullable = false)\n",
            " |-- age: integer (nullable = true)\n",
            " |-- sex: string (nullable = false)\n",
            " |-- had_fever_last_week: string (nullable = true)\n",
            " |-- had_cough_last_week: string (nullable = true)\n",
            " |-- had_sore_throat_last_week: string (nullable = true)\n",
            " |-- had_trouble_breathing_last_week: string (nullable = true)\n",
            " |-- had_headache_last_week: string (nullable = true)\n",
            " |-- had_runny_nose_last_week: string (nullable = true)\n",
            " |-- had_lethargy_last_week: string (nullable = true)\n",
            " |-- had_loss_of_smell_last_week: string (nullable = true)\n",
            " |-- went_to_healthcare_facility: string (nullable = true)\n",
            " |-- was_hospitalized: string (nullable = true)\n",
            " |-- used_ventilator: string (nullable = true)\n",
            " |-- has_health_insurance: string (nullable = true)\n",
            " |-- worked_last_week: string (nullable = true)\n",
            " |-- main_job_activity: string (nullable = true)\n",
            " |-- how_many_employees: string (nullable = true)\n",
            " |-- income_range: string (nullable = true)\n",
            " |-- has_worked_remote: string (nullable = true)\n",
            " |-- coronavirus_related_aid: string (nullable = true)\n",
            " |-- has_covid: boolean (nullable = false)\n",
            " |-- covid_per_age: string (nullable = false)\n",
            "\n"
          ]
        }
      ]
    },
    {
      "cell_type": "code",
      "source": [
        "probably_covid.count()"
      ],
      "metadata": {
        "id": "FlN7DHpjVwfl",
        "outputId": "3538e2c2-9823-4698-e2f7-b57fd60518a9",
        "colab": {
          "base_uri": "https://localhost:8080/"
        }
      },
      "execution_count": 97,
      "outputs": [
        {
          "output_type": "execute_result",
          "data": {
            "text/plain": [
              "40511"
            ]
          },
          "metadata": {},
          "execution_count": 97
        }
      ]
    },
    {
      "cell_type": "code",
      "source": [
        "df.groupby('sex').count().show()"
      ],
      "metadata": {
        "id": "JMjhnL09XLvj",
        "outputId": "4a8ed1a7-f011-4366-b49f-0c5ff9aac7a0",
        "colab": {
          "base_uri": "https://localhost:8080/"
        }
      },
      "execution_count": 104,
      "outputs": [
        {
          "output_type": "stream",
          "name": "stdout",
          "text": [
            "+------+------+\n",
            "|   sex| count|\n",
            "+------+------+\n",
            "|female|598541|\n",
            "|  male|550656|\n",
            "+------+------+\n",
            "\n"
          ]
        }
      ]
    },
    {
      "cell_type": "markdown",
      "source": [
        "3.2.2 | Teve sintoma -> sexo -> homem ou mulher\n"
      ],
      "metadata": {
        "id": "cf8UeXgyacL5"
      }
    },
    {
      "cell_type": "code",
      "source": [
        "probably_covid.groupby('sex').count().show()"
      ],
      "metadata": {
        "id": "XAu75uDk4u2u",
        "outputId": "4375abc5-3be0-4b4f-d647-64cac5c69d61",
        "colab": {
          "base_uri": "https://localhost:8080/"
        }
      },
      "execution_count": 103,
      "outputs": [
        {
          "output_type": "stream",
          "name": "stdout",
          "text": [
            "+------+-----+\n",
            "|   sex|count|\n",
            "+------+-----+\n",
            "|female|23520|\n",
            "|  male|16991|\n",
            "+------+-----+\n",
            "\n"
          ]
        }
      ]
    },
    {
      "cell_type": "code",
      "source": [
        "probably_covid.groupby('went_to_healthcare_facility').count().show()"
      ],
      "metadata": {
        "id": "O-ggA9_Z4us5",
        "outputId": "4d557dd3-287c-4842-9b96-e9d438004753",
        "colab": {
          "base_uri": "https://localhost:8080/"
        }
      },
      "execution_count": 107,
      "outputs": [
        {
          "output_type": "stream",
          "name": "stdout",
          "text": [
            "+---------------------------+-----+\n",
            "|went_to_healthcare_facility|count|\n",
            "+---------------------------+-----+\n",
            "|                    ignored|   12|\n",
            "|                         no|29703|\n",
            "|                        yes|10796|\n",
            "+---------------------------+-----+\n",
            "\n"
          ]
        }
      ]
    },
    {
      "cell_type": "markdown",
      "source": [
        "3.2.3 | Teve sintoma -> foi no médico?\n"
      ],
      "metadata": {
        "id": "NXMhfAfFaYyZ"
      }
    },
    {
      "cell_type": "code",
      "source": [
        "to_healthcare = probably_covid.filter(probably_covid['went_to_healthcare_facility'] == 'yes')"
      ],
      "metadata": {
        "id": "k-g7X5dC4uky"
      },
      "execution_count": 110,
      "outputs": []
    },
    {
      "cell_type": "code",
      "source": [
        "to_healthcare.show()"
      ],
      "metadata": {
        "id": "8HRhI6e_ZdQE",
        "outputId": "8dea0aa3-5e79-420d-fef2-be0f7a69e877",
        "colab": {
          "base_uri": "https://localhost:8080/"
        }
      },
      "execution_count": 111,
      "outputs": [
        {
          "output_type": "stream",
          "name": "stdout",
          "text": [
            "+----------+----+-----+--------------+---+------+-------------------+-------------------+-------------------------+-------------------------------+----------------------+------------------------+----------------------+---------------------------+---------------------------+----------------+---------------+--------------------+----------------+--------------------+------------------+------------+-----------------+-----------------------+---------+-------------+\n",
            "|state_code|year|month|housing_status|age|   sex|had_fever_last_week|had_cough_last_week|had_sore_throat_last_week|had_trouble_breathing_last_week|had_headache_last_week|had_runny_nose_last_week|had_lethargy_last_week|had_loss_of_smell_last_week|went_to_healthcare_facility|was_hospitalized|used_ventilator|has_health_insurance|worked_last_week|   main_job_activity|how_many_employees|income_range|has_worked_remote|coronavirus_related_aid|has_covid|covid_per_age|\n",
            "+----------+----+-----+--------------+---+------+-------------------+-------------------+-------------------------+-------------------------------+----------------------+------------------------+----------------------+---------------------------+---------------------------+----------------+---------------+--------------------+----------------+--------------------+------------------+------------+-----------------+-----------------------+---------+-------------+\n",
            "|        RO|2020|    9|         urban| 31|female|                yes|                 no|                      yes|                             no|                    no|                      no|                    no|                         no|                        yes|              no|           NULL|                  no|              no|                NULL|              NULL|        NULL|             NULL|                    yes|     true|        adult|\n",
            "|        RO|2020|    9|         urban| 87|female|                 no|                yes|                       no|                            yes|                    no|                     yes|                   yes|                         no|                        yes|            NULL|           NULL|                 yes|              no|                NULL|              NULL|        NULL|             NULL|                     no|     true|      elderly|\n",
            "|        RO|2020|    9|         urban| 38|  male|                 no|                yes|                      yes|                            yes|                   yes|                     yes|                   yes|                         no|                        yes|              no|           NULL|                  no|             yes|               other|              NULL|   801-1,600|             NULL|                     no|     true|        adult|\n",
            "|        RO|2020|    9|         urban| 62|female|                yes|                yes|                      yes|                            yes|                   yes|                     yes|                   yes|                        yes|                        yes|              no|           NULL|                 yes|              no|public_administra...|              NULL|3,001-10,000|             NULL|                    yes|     true|      elderly|\n",
            "|        RO|2020|    9|         urban| 36|female|                yes|                yes|                      yes|                            yes|                   yes|                     yes|                   yes|                        yes|                        yes|              no|           NULL|                 yes|             yes|                NULL|              NULL|3,001-10,000|             NULL|                    yes|     true|        adult|\n",
            "|        RO|2020|    9|         urban| 24|  male|                yes|                 no|                       no|                            yes|                    no|                      no|                    no|                         no|                        yes|            NULL|           NULL|                  no|             yes|wholesale_and_ret...|              NULL|   801-1,600|             NULL|                     no|     true|        adult|\n",
            "|        RO|2020|    9|         urban| 40|female|                 no|                 no|                       no|                             no|                    no|                      no|                    no|                        yes|                        yes|            NULL|           NULL|                  no|             yes|paid_domestic_ser...|              NULL|   801-1,600|             NULL|                     no|     true|        adult|\n",
            "|        RO|2020|    9|         urban| 36|female|                 no|                 no|                       no|                            yes|                   yes|                      no|                    no|                         no|                        yes|            NULL|           NULL|                 yes|             yes|human_health_and_...|              NULL|3,001-10,000|             NULL|                     no|     true|        adult|\n",
            "|        RO|2020|    9|         urban| 32|  male|                yes|                 no|                       no|                             no|                    no|                      no|                    no|                    ignored|                        yes|              no|           NULL|                 yes|             yes|public_administra...|              NULL| 1,601-3,000|             NULL|                    yes|     true|        adult|\n",
            "|        RO|2020|    9|         urban| 50|female|                 no|                 no|                      yes|                             no|                   yes|                      no|                    no|                    ignored|                        yes|            NULL|           NULL|                 yes|             yes|           education|              NULL|   801-1,600|              yes|                     no|     true|        adult|\n",
            "|        RO|2020|    9|         urban| 19|  male|                yes|                yes|                      yes|                             no|                    no|                      no|                    no|                        yes|                        yes|              no|           NULL|                  no|             yes|repair_of_motor_v...|              NULL|   801-1,600|             NULL|                    yes|     true|        young|\n",
            "|        RO|2020|    9|         urban| 44|female|                yes|                yes|                      yes|                            yes|                   yes|                     yes|                   yes|                        yes|                        yes|              no|           NULL|                 yes|             yes|wholesale_and_ret...|              NULL|   801-1,600|               no|                    yes|     true|        adult|\n",
            "|        RO|2020|    9|         urban| 24|  male|                yes|                yes|                      yes|                            yes|                   yes|                     yes|                    no|                         no|                        yes|            NULL|           NULL|                  no|             yes|wholesale_and_ret...|              NULL|   801-1,600|             NULL|                    yes|     true|        adult|\n",
            "|        RO|2020|    9|         urban|  0|  male|                yes|                yes|                      yes|                            yes|                   yes|                     yes|                   yes|                         no|                        yes|              no|           NULL|                  no|            NULL|                NULL|              NULL|        NULL|             NULL|                    yes|     true|        young|\n",
            "|        RO|2020|    9|         urban| 59|  male|                 no|                yes|                      yes|                             no|                    no|                      no|                    no|                         no|                        yes|            NULL|           NULL|                  no|              no|                NULL|              NULL|        NULL|             NULL|                    yes|     true|        adult|\n",
            "|        RO|2020|    9|         urban| 56|female|                 no|                yes|                       no|                             no|                    no|                      no|                    no|                         no|                        yes|            NULL|           NULL|                  no|              no|                NULL|              NULL|        NULL|             NULL|                    yes|     true|        adult|\n",
            "|        RO|2020|    9|         urban| 22|  male|                yes|                yes|                       no|                            yes|                   yes|                      no|                    no|                        yes|                        yes|             yes|             no|                  no|              no|                NULL|              NULL|        NULL|             NULL|                    yes|     true|        adult|\n",
            "|        RO|2020|    9|         urban| 24|  male|                yes|                 no|                       no|                             no|                    no|                      no|                    no|                         no|                        yes|            NULL|           NULL|                  no|             yes|hairdressing_beau...|              NULL| 1,601-3,000|             NULL|                    yes|     true|        adult|\n",
            "|        RO|2020|    9|         rural| 18|  male|                yes|                yes|                       no|                             no|                    no|                      no|                    no|                    ignored|                        yes|            NULL|           NULL|                  no|              no|                NULL|              NULL|        NULL|             NULL|                    yes|     true|        young|\n",
            "|        RO|2020|    9|         urban| 90|  male|                 no|                yes|                       no|                             no|                    no|                      no|                    no|                         no|                        yes|            NULL|           NULL|                 yes|              no|                NULL|              NULL|        NULL|             NULL|                     no|     true|      elderly|\n",
            "+----------+----+-----+--------------+---+------+-------------------+-------------------+-------------------------+-------------------------------+----------------------+------------------------+----------------------+---------------------------+---------------------------+----------------+---------------+--------------------+----------------+--------------------+------------------+------------+-----------------+-----------------------+---------+-------------+\n",
            "only showing top 20 rows\n",
            "\n"
          ]
        }
      ]
    },
    {
      "cell_type": "code",
      "source": [
        "private_health = to_healthcare.filter(to_healthcare['has_health_insurance'] == 'yes')"
      ],
      "metadata": {
        "id": "VkmEeDqZZ_d5"
      },
      "execution_count": 115,
      "outputs": []
    },
    {
      "cell_type": "code",
      "source": [
        "public_health = to_healthcare.filter(to_healthcare['has_health_insurance'] == 'no')"
      ],
      "metadata": {
        "id": "k5eODu2sZklT"
      },
      "execution_count": 114,
      "outputs": []
    },
    {
      "cell_type": "markdown",
      "source": [
        "Teve sintoma -> foi no médico -> SUS ou privado"
      ],
      "metadata": {
        "id": "SKEvmjUXaU15"
      }
    },
    {
      "cell_type": "code",
      "source": [
        "private_health.count()\n"
      ],
      "metadata": {
        "id": "4wOO_XIOaM9g",
        "outputId": "563d6798-daa0-4166-99c4-31bb93ceb188",
        "colab": {
          "base_uri": "https://localhost:8080/"
        }
      },
      "execution_count": 119,
      "outputs": [
        {
          "output_type": "execute_result",
          "data": {
            "text/plain": [
              "3132"
            ]
          },
          "metadata": {},
          "execution_count": 119
        }
      ]
    },
    {
      "cell_type": "code",
      "source": [
        "public_health.count()"
      ],
      "metadata": {
        "id": "KYTjBWCdaqVr",
        "outputId": "d2a92642-9b9b-45d9-8f14-6425e3a4715d",
        "colab": {
          "base_uri": "https://localhost:8080/"
        }
      },
      "execution_count": 118,
      "outputs": [
        {
          "output_type": "execute_result",
          "data": {
            "text/plain": [
              "7660"
            ]
          },
          "metadata": {},
          "execution_count": 118
        }
      ]
    },
    {
      "cell_type": "markdown",
      "source": [
        "3.2.3.2 | Teve sintoma -> foi no médico -> rentabilidade?\n"
      ],
      "metadata": {
        "id": "_d6pPed_bLKR"
      }
    },
    {
      "cell_type": "code",
      "source": [
        "to_healthcare.orderBy('income_range').show()"
      ],
      "metadata": {
        "id": "fW-JlnFeatGN",
        "outputId": "e3766d7b-765a-4e53-ca1f-ece905bd7ac1",
        "colab": {
          "base_uri": "https://localhost:8080/"
        }
      },
      "execution_count": 121,
      "outputs": [
        {
          "output_type": "stream",
          "name": "stdout",
          "text": [
            "+----------+----+-----+--------------+---+------+-------------------+-------------------+-------------------------+-------------------------------+----------------------+------------------------+----------------------+---------------------------+---------------------------+----------------+---------------+--------------------+----------------+--------------------+------------------+------------+-----------------+-----------------------+---------+-------------+\n",
            "|state_code|year|month|housing_status|age|   sex|had_fever_last_week|had_cough_last_week|had_sore_throat_last_week|had_trouble_breathing_last_week|had_headache_last_week|had_runny_nose_last_week|had_lethargy_last_week|had_loss_of_smell_last_week|went_to_healthcare_facility|was_hospitalized|used_ventilator|has_health_insurance|worked_last_week|   main_job_activity|how_many_employees|income_range|has_worked_remote|coronavirus_related_aid|has_covid|covid_per_age|\n",
            "+----------+----+-----+--------------+---+------+-------------------+-------------------+-------------------------+-------------------------------+----------------------+------------------------+----------------------+---------------------------+---------------------------+----------------+---------------+--------------------+----------------+--------------------+------------------+------------+-----------------+-----------------------+---------+-------------+\n",
            "|        CE|2020|   10|         urban|  5|female|                 no|                yes|                      yes|                             no|                    no|                     yes|                    no|                        yes|                        yes|              no|           NULL|                  no|            NULL|                NULL|              NULL|        NULL|             NULL|                    yes|     true|        young|\n",
            "|        MG|2020|   11|         rural|  1|female|                yes|                 no|                       no|                             no|                    no|                      no|                    no|                         no|                        yes|              no|           NULL|                 yes|            NULL|                NULL|              NULL|        NULL|             NULL|                     no|     true|        young|\n",
            "|        RO|2020|    9|         urban| 69|female|                yes|                 no|                       no|                             no|                    no|                      no|                    no|                        yes|                        yes|             yes|             no|                  no|              no|                NULL|              NULL|        NULL|             NULL|                     no|     true|      elderly|\n",
            "|        MG|2020|   11|         urban| 58|  male|                 no|                yes|                      yes|                             no|                    no|                      no|                    no|                         no|                        yes|            NULL|           NULL|                  no|              no|                NULL|              NULL|        NULL|             NULL|                    yes|     true|        adult|\n",
            "|        RN|2020|   10|         urban| 23|  male|                yes|                yes|                      yes|                             no|                   yes|                     yes|                   yes|                         no|                        yes|            NULL|           NULL|                 yes|              no|                NULL|              NULL|        NULL|             NULL|                     no|     true|        adult|\n",
            "|        MG|2020|   11|         urban| 87|female|                yes|                 no|                       no|                             no|                    no|                      no|                    no|                         no|                        yes|              no|           NULL|                 yes|              no|wholesale_and_ret...|              NULL|        NULL|             NULL|                     no|     true|      elderly|\n",
            "|        AC|2020|    9|         urban| 15|  male|                 no|                 no|                       no|                             no|                    no|                     yes|                    no|                         no|                        yes|              no|           NULL|                  no|              no|                NULL|              NULL|        NULL|             NULL|                    yes|     true|        young|\n",
            "|        MG|2020|   11|         urban| 74|female|                yes|                 no|                       no|                             no|                    no|                     yes|                   yes|                    ignored|                        yes|            NULL|           NULL|                  no|              no|                NULL|              NULL|        NULL|             NULL|                    yes|     true|      elderly|\n",
            "|        CE|2020|   10|         rural| 42|female|                yes|                 no|                       no|                             no|                    no|                     yes|                    no|                        yes|                        yes|            NULL|           NULL|                  no|              no|                NULL|              NULL|        NULL|             NULL|                    yes|     true|        adult|\n",
            "|        MG|2020|   11|         urban|  0|  male|                 no|                yes|                       no|                             no|                    no|                     yes|                    no|                         no|                        yes|            NULL|           NULL|                  no|            NULL|                NULL|              NULL|        NULL|             NULL|                     no|     true|        young|\n",
            "|        RO|2020|    9|         urban| 23|female|                yes|                yes|                      yes|                             no|                   yes|                     yes|                    no|                        yes|                        yes|            NULL|           NULL|                  no|              no|                NULL|              NULL|        NULL|             NULL|                    yes|     true|        adult|\n",
            "|        MG|2020|   11|         urban| 52|female|                 no|                yes|                       no|                             no|                    no|                     yes|                    no|                         no|                        yes|            NULL|           NULL|                  no|              no|                NULL|              NULL|        NULL|             NULL|                    yes|     true|        adult|\n",
            "|        CE|2020|   10|         urban| 10|female|                 no|                 no|                       no|                             no|                   yes|                     yes|                    no|                        yes|                        yes|            NULL|           NULL|                  no|            NULL|                NULL|              NULL|        NULL|             NULL|                    yes|     true|        young|\n",
            "|        MG|2020|   11|         urban| 81|  male|                 no|                yes|                       no|                             no|                    no|                      no|                    no|                         no|                        yes|            NULL|           NULL|                  no|              no|                NULL|              NULL|        NULL|             NULL|                    yes|     true|      elderly|\n",
            "|        RO|2020|    9|         urban| 87|female|                 no|                yes|                       no|                            yes|                    no|                     yes|                   yes|                         no|                        yes|            NULL|           NULL|                 yes|              no|                NULL|              NULL|        NULL|             NULL|                     no|     true|      elderly|\n",
            "|        MG|2020|   11|         urban| 17|  male|                 no|                yes|                       no|                             no|                    no|                      no|                    no|                         no|                        yes|            NULL|           NULL|                  no|              no|                NULL|              NULL|        NULL|             NULL|                    yes|     true|        young|\n",
            "|        CE|2020|   10|         rural| 72|female|                yes|                 no|                       no|                             no|                    no|                      no|                   yes|                         no|                        yes|             yes|            yes|                  no|              no|                NULL|              NULL|        NULL|             NULL|                     no|     true|      elderly|\n",
            "|        MG|2020|   11|         urban| 57|female|                 no|                 no|                       no|                            yes|                    no|                     yes|                    no|                        yes|                        yes|              no|           NULL|                 yes|              no|                NULL|              NULL|        NULL|             NULL|                     no|     true|        adult|\n",
            "|        RO|2020|    9|         urban| 44|female|                 no|                 no|                      yes|                             no|                    no|                      no|                    no|                         no|                        yes|              no|           NULL|                  no|              no|                NULL|              NULL|        NULL|             NULL|                    yes|     true|        adult|\n",
            "|        MG|2020|   11|         urban| 11|  male|                 no|                 no|                      yes|                             no|                    no|                      no|                    no|                         no|                        yes|            NULL|           NULL|                  no|            NULL|                NULL|              NULL|        NULL|             NULL|                    yes|     true|        young|\n",
            "+----------+----+-----+--------------+---+------+-------------------+-------------------+-------------------------+-------------------------------+----------------------+------------------------+----------------------+---------------------------+---------------------------+----------------+---------------+--------------------+----------------+--------------------+------------------+------------+-----------------+-----------------------+---------+-------------+\n",
            "only showing top 20 rows\n",
            "\n"
          ]
        }
      ]
    },
    {
      "cell_type": "code",
      "source": [
        "to_healthcare.groupBy('income_range').count().show()"
      ],
      "metadata": {
        "id": "9tDe8aGrbMWS",
        "outputId": "bf0d229f-1c57-48ad-c8dd-97f98b99cc36",
        "colab": {
          "base_uri": "https://localhost:8080/"
        }
      },
      "execution_count": 127,
      "outputs": [
        {
          "output_type": "stream",
          "name": "stdout",
          "text": [
            "+--------------+-----+\n",
            "|  income_range|count|\n",
            "+--------------+-----+\n",
            "|          NULL| 5951|\n",
            "|       601-800|  153|\n",
            "|     801-1,600| 2142|\n",
            "|50,001-100,000|    1|\n",
            "|not_applicable|   29|\n",
            "|       301-600|  281|\n",
            "| 10,001-50,000|  130|\n",
            "|       101-300|  129|\n",
            "|   1,601-3,000| 1260|\n",
            "|  3,001-10,000|  720|\n",
            "+--------------+-----+\n",
            "\n"
          ]
        }
      ]
    },
    {
      "cell_type": "markdown",
      "source": [
        "3.2.3.3 | Teve sintoma -> foi no médico -> ficou internado?\n"
      ],
      "metadata": {
        "id": "yjE74p9db9YZ"
      }
    },
    {
      "cell_type": "code",
      "source": [
        "to_healthcare.groupBy('was_hospitalized').count().show()"
      ],
      "metadata": {
        "id": "QiPiqlcKcGV-",
        "outputId": "fe3b9d5a-b875-4d1a-da31-6425ecb35b52",
        "colab": {
          "base_uri": "https://localhost:8080/"
        }
      },
      "execution_count": 130,
      "outputs": [
        {
          "output_type": "stream",
          "name": "stdout",
          "text": [
            "+----------------+-----+\n",
            "|was_hospitalized|count|\n",
            "+----------------+-----+\n",
            "|            NULL| 5456|\n",
            "|       dont_know|   56|\n",
            "|              no| 4776|\n",
            "|             yes|  505|\n",
            "|         ignored|    3|\n",
            "+----------------+-----+\n",
            "\n"
          ]
        }
      ]
    },
    {
      "cell_type": "markdown",
      "source": [
        "3.2.4 | Teve sintoma -> ficou em casa? 3.2.4.1 | Teve sintoma -> ficou em casa ou fez office?\n",
        "\n"
      ],
      "metadata": {
        "id": "QiSOI8PGcTSr"
      }
    },
    {
      "cell_type": "code",
      "source": [
        "df.groupBy('has_worked_remote').count().show()"
      ],
      "metadata": {
        "id": "-8B6UuRbc7RR",
        "outputId": "36b9b146-539a-4f0c-afd0-a28d97318f02",
        "colab": {
          "base_uri": "https://localhost:8080/"
        }
      },
      "execution_count": 132,
      "outputs": [
        {
          "output_type": "stream",
          "name": "stdout",
          "text": [
            "+-----------------+-------+\n",
            "|has_worked_remote|  count|\n",
            "+-----------------+-------+\n",
            "|             NULL|1100419|\n",
            "|               no|  14757|\n",
            "|              yes|  34021|\n",
            "+-----------------+-------+\n",
            "\n"
          ]
        }
      ]
    },
    {
      "cell_type": "code",
      "source": [
        "to_healthcare.groupBy('has_worked_remote').count().show()"
      ],
      "metadata": {
        "id": "IG4r0gxWcPz3",
        "outputId": "df763a3e-d37e-41a4-e5b4-627b2b90a674",
        "colab": {
          "base_uri": "https://localhost:8080/"
        }
      },
      "execution_count": 131,
      "outputs": [
        {
          "output_type": "stream",
          "name": "stdout",
          "text": [
            "+-----------------+-----+\n",
            "|has_worked_remote|count|\n",
            "+-----------------+-----+\n",
            "|             NULL|10266|\n",
            "|               no|  127|\n",
            "|              yes|  403|\n",
            "+-----------------+-----+\n",
            "\n"
          ]
        }
      ]
    },
    {
      "cell_type": "markdown",
      "source": [
        "Teve auxílio?\n",
        "\n"
      ],
      "metadata": {
        "id": "tsSc41a4dnW3"
      }
    },
    {
      "cell_type": "code",
      "source": [
        "df.groupBy('coronavirus_related_aid').count().show()"
      ],
      "metadata": {
        "id": "Qckx7tvFdeVD",
        "outputId": "ba60e915-50df-4092-b7c9-fcba8026c6a6",
        "colab": {
          "base_uri": "https://localhost:8080/"
        }
      },
      "execution_count": 133,
      "outputs": [
        {
          "output_type": "stream",
          "name": "stdout",
          "text": [
            "+-----------------------+------+\n",
            "|coronavirus_related_aid| count|\n",
            "+-----------------------+------+\n",
            "|                     no|574880|\n",
            "|                    yes|574317|\n",
            "+-----------------------+------+\n",
            "\n"
          ]
        }
      ]
    },
    {
      "cell_type": "markdown",
      "source": [
        "3.2.5 | Teve sintoma -> qual a atividade de trabalho da pessoa?\n"
      ],
      "metadata": {
        "id": "T0rdfgI1d3hL"
      }
    },
    {
      "cell_type": "code",
      "source": [
        "to_healthcare.groupBy('main_job_activity').count().show()"
      ],
      "metadata": {
        "id": "Ts7OTRUmd46x",
        "outputId": "787d67e0-3076-488d-d6c8-73c63e80c05a",
        "colab": {
          "base_uri": "https://localhost:8080/"
        }
      },
      "execution_count": 134,
      "outputs": [
        {
          "output_type": "stream",
          "name": "stdout",
          "text": [
            "+--------------------+-----+\n",
            "|   main_job_activity|count|\n",
            "+--------------------+-----+\n",
            "|real_estate_activ...|   27|\n",
            "|banks_financial_a...|   84|\n",
            "|repair_of_motor_v...|   71|\n",
            "|law_firms_enginee...|  168|\n",
            "|           education|  408|\n",
            "|food_service_bars...|  226|\n",
            "|                NULL| 5934|\n",
            "|accommodation_hot...|   23|\n",
            "|supply_of_electri...|   47|\n",
            "|human_health_and_...|  546|\n",
            "|               other|  293|\n",
            "|artistic_sports_a...|   42|\n",
            "|information_and_c...|   98|\n",
            "| passenger_transport|   75|\n",
            "|extraction_of_pet...|   22|\n",
            "|religious_organiz...|   26|\n",
            "|paid_domestic_ser...|  305|\n",
            "|wholesale_and_ret...|  686|\n",
            "|        construction|  221|\n",
            "|agriculture_lives...|  323|\n",
            "+--------------------+-----+\n",
            "only showing top 20 rows\n",
            "\n"
          ]
        }
      ]
    },
    {
      "cell_type": "markdown",
      "source": [
        "3.3 | Mapa do brasil -> Relacionar estados (uf) com o número de sintomas (2 ou mais sintomas, até 5 no máximo)\n"
      ],
      "metadata": {
        "id": "7L8eFHEXeJsP"
      }
    },
    {
      "cell_type": "code",
      "source": [],
      "metadata": {
        "id": "9o3jfpajeLDi"
      },
      "execution_count": null,
      "outputs": []
    },
    {
      "cell_type": "code",
      "source": [],
      "metadata": {
        "id": "wFga9GiNeLBY"
      },
      "execution_count": null,
      "outputs": []
    },
    {
      "cell_type": "code",
      "source": [],
      "metadata": {
        "id": "LTT8YMgfeK-t"
      },
      "execution_count": null,
      "outputs": []
    },
    {
      "cell_type": "code",
      "source": [],
      "metadata": {
        "id": "1KRiaJ0neK74"
      },
      "execution_count": null,
      "outputs": []
    },
    {
      "cell_type": "markdown",
      "source": [
        "## Covid cases per state"
      ],
      "metadata": {
        "id": "9H6zG5RIb1Xf"
      }
    },
    {
      "cell_type": "code",
      "source": [
        "import seaborn as sns\n",
        "import matplotlib.pyplot as plt"
      ],
      "metadata": {
        "id": "LH0VPtm8f0CG"
      },
      "execution_count": null,
      "outputs": []
    },
    {
      "cell_type": "code",
      "source": [
        "filtered_df = df_pd_state_covid.query('has_covid==True')\n",
        "filtered_df"
      ],
      "metadata": {
        "id": "GxdVHP0mgt3t"
      },
      "execution_count": null,
      "outputs": []
    },
    {
      "cell_type": "code",
      "source": [
        "# setting plot size\n",
        "plt.figure(figsize=(10, 6))\n",
        "\n",
        "# creating sns barchart\n",
        "ax = sns.barplot(x=filtered_df['state_code'].value_counts().index,\n",
        "                 y=filtered_df['state_code'].value_counts().values,\n",
        "                 palette='rocket')\n",
        "\n",
        "# Title and label\n",
        "plt.xlabel('State Code')\n",
        "plt.ylabel('Count')\n",
        "plt.title('COVID-19 Cases by State, PNAD Contínua Sep/20 to Nov/20')\n",
        "\n",
        "#adding data label\n",
        "for p in ax.patches:\n",
        "    ax.annotate(format(p.get_height(), '.0f'),\n",
        "                (p.get_x() + p.get_width() / 2., p.get_height()),\n",
        "                ha = 'center', va = 'center',\n",
        "                size=10,\n",
        "                xytext = (0, 9),\n",
        "                textcoords = 'offset points')\n",
        "\n",
        "plt.xticks(rotation=45)\n",
        "plt.tight_layout()\n",
        "plt.show()"
      ],
      "metadata": {
        "id": "noGKVW8TfauI"
      },
      "execution_count": null,
      "outputs": []
    },
    {
      "cell_type": "code",
      "source": [
        "# setting plot size\n",
        "plt.figure(figsize=(15, 6))\n",
        "\n",
        "# creating sns barchart\n",
        "ax = sns.countplot(data=filtered_df.query('was_hospitalized == \"yes\" | was_hospitalized==\"no\"'),\n",
        "                 x= 'state_code',\n",
        "                 hue='was_hospitalized',\n",
        "                 palette='rocket')\n",
        "\n",
        "# Title and label\n",
        "plt.xlabel('State Code')\n",
        "plt.ylabel('Count')\n",
        "plt.title('Hospitalized COVID-19 Cases by State, PNAD Contínua Sep/20 to Nov/20')\n",
        "\n",
        "#adding data label\n",
        "for p in ax.patches:\n",
        "    ax.annotate(format(p.get_height(), '.0f'),\n",
        "                (p.get_x() + p.get_width() / 2., p.get_height()),\n",
        "                ha = 'center', va = 'center',\n",
        "                size=10,\n",
        "                xytext = (0, 9),\n",
        "                textcoords = 'offset points')\n",
        "\n",
        "plt.xticks(rotation=45)\n",
        "plt.tight_layout()\n",
        "plt.show"
      ],
      "metadata": {
        "id": "3jsGIRpzgeEM"
      },
      "execution_count": null,
      "outputs": []
    },
    {
      "cell_type": "code",
      "source": [
        "# setting plot size\n",
        "plt.figure(figsize=(15, 6))\n",
        "\n",
        "# creating sns barchart\n",
        "ax = sns.countplot(data=filtered_df.query('was_hospitalized== \"yes\" & (used_ventilator == \"yes\" | used_ventilator==\"no\")'),\n",
        "                 x= 'state_code',\n",
        "                 hue='used_ventilator',\n",
        "                 palette='rocket')\n",
        "\n",
        "# Title and label\n",
        "plt.xlabel('State Code')\n",
        "plt.ylabel('Count')\n",
        "plt.title('Subject used ventilator Cases by State, PNAD Contínua Sep/20 to Nov/20')\n",
        "\n",
        "#adding data label\n",
        "for p in ax.patches:\n",
        "    ax.annotate(format(p.get_height(), '.0f'),\n",
        "                (p.get_x() + p.get_width() / 2., p.get_height()),\n",
        "                ha = 'center', va = 'center',\n",
        "                size=10,\n",
        "                xytext = (0, 9),\n",
        "                textcoords = 'offset points')\n",
        "\n",
        "plt.xticks(rotation=45)\n",
        "plt.tight_layout()\n",
        "plt.show"
      ],
      "metadata": {
        "id": "HXhXsbIDjk8x"
      },
      "execution_count": null,
      "outputs": []
    },
    {
      "cell_type": "code",
      "source": [
        "# @title\n",
        "# setting plot size\n",
        "plt.figure(figsize=(15, 6))\n",
        "\n",
        "# creating sns barchart\n",
        "ax = sns.countplot(data=filtered_df.query('went_to_healthcare_facility == \"yes\" & has_health_insurance != \"not_applicable\"'),\n",
        "                 x= 'state_code',\n",
        "                 hue='has_health_insurance',\n",
        "                 orient = 'h',\n",
        "                 palette='rocket')\n",
        "\n",
        "# Title and label\n",
        "plt.xlabel('State Code')\n",
        "plt.ylabel('Count')\n",
        "plt.title('Subject sought healthcare facility, has_health_insurance breakdown, PNAD Contínua Sep/20 to Nov/20')\n",
        "\n",
        "#adding data label\n",
        "for p in ax.patches:\n",
        "    ax.annotate(format(p.get_height(), '.0f'),\n",
        "                (p.get_x() + p.get_width() / 2., p.get_height()),\n",
        "                ha = 'center', va = 'center', rotation = 45,\n",
        "                size=8,\n",
        "                xytext = (0, 9),\n",
        "                textcoords = 'offset points')\n",
        "\n",
        "plt.xticks(rotation=45)\n",
        "plt.tight_layout()\n",
        "plt.show"
      ],
      "metadata": {
        "id": "H43dwc2fkTwB",
        "cellView": "form"
      },
      "execution_count": null,
      "outputs": []
    },
    {
      "cell_type": "markdown",
      "source": [
        "## Connecting PySpark to BigQuery"
      ],
      "metadata": {
        "id": "jsXoFA3UPF3i"
      }
    },
    {
      "cell_type": "code",
      "source": [
        "from google.cloud import bigquery\n",
        "import pandas_gbq"
      ],
      "metadata": {
        "id": "ux4pPGMOR-fQ"
      },
      "execution_count": null,
      "outputs": []
    },
    {
      "cell_type": "code",
      "source": [
        "output_path = \"/content/gdrive/MyDrive/colab_notebooks/pnad_covid19_treated.csv\"\n",
        "\n",
        "# Use the write method to save the DataFrame as a CSV file\n",
        "df.write.csv(output_path, header=True, mode=\"overwrite\")"
      ],
      "metadata": {
        "id": "Qay8XtBeP9xv"
      },
      "execution_count": null,
      "outputs": []
    },
    {
      "cell_type": "code",
      "source": [
        "# Use the Cloud Storage bucket for temporary BigQuery export data used\n",
        "# by the connector.\n",
        "bucket = \"pnad_covid19\"\n",
        "spark.conf.set('temporaryGcsBucket', bucket)"
      ],
      "metadata": {
        "id": "IU0nyOlfZSRD"
      },
      "execution_count": null,
      "outputs": []
    },
    {
      "cell_type": "code",
      "source": [
        "# df.write.format('bigquery') \\\n",
        "#   .option('table', 'pnad_covid29.covid19') \\\n",
        "#   .save()"
      ],
      "metadata": {
        "id": "YCa_XSyGXR_z"
      },
      "execution_count": null,
      "outputs": []
    }
  ]
}